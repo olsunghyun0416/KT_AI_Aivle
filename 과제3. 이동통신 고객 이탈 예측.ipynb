{
 "cells": [
  {
   "cell_type": "markdown",
   "metadata": {
    "id": "mTt7qGUTCcFs"
   },
   "source": [
    "# 과제#3. [평가] 이동통신 고객 이탈 예측"
   ]
  },
  {
   "cell_type": "markdown",
   "metadata": {
    "id": "cdQaCT5I0IL_"
   },
   "source": [
    "* 여러분은 OO 통신화사 데이터분석가 입니다.\n",
    "* 00 통신회사의 올해 고객 목표는, **현재 고객수를 유지**하는 것입니다.\n",
    "* 더욱 치열해진 경쟁 상황에서 고객수를 유지하는 것은 굉장히 도전적인 목표 입니다.\n",
    "* 이를 위해 회사는 약정기간이 끝난 고객이 번호이동(이탈)해 가는 문제를 해결하고자 합니다.\n",
    "* 그래서 에이블러 여러분에게, 어떤 고객이 번호이동(이탈)해 가는지 예측 모델링을 의뢰하였습니다."
   ]
  },
  {
   "cell_type": "markdown",
   "metadata": {
    "id": "ExPzmVxJGvxq"
   },
   "source": [
    "![](https://d18lkz4dllo6v2.cloudfront.net/cumulus_uploads/entry/23964/mobile%20phones.png)"
   ]
  },
  {
   "cell_type": "markdown",
   "metadata": {
    "id": "AHmt88Q5EVsj"
   },
   "source": [
    "## 0.환경설정"
   ]
  },
  {
   "cell_type": "markdown",
   "metadata": {
    "id": "KnzVh2LmkLDU"
   },
   "source": [
    "### 1) 라이브러리 로딩"
   ]
  },
  {
   "cell_type": "code",
   "execution_count": 319,
   "metadata": {
    "id": "3tWsgb_wG3EU"
   },
   "outputs": [],
   "source": [
    "import pandas as pd\n",
    "import numpy as np\n",
    "import matplotlib.pyplot as plt\n",
    "import seaborn as sns\n",
    "\n",
    "from sklearn.model_selection import train_test_split"
   ]
  },
  {
   "cell_type": "markdown",
   "metadata": {
    "id": "kcMdP5WtG3EV"
   },
   "source": [
    "### 2) 데이터 로딩"
   ]
  },
  {
   "cell_type": "code",
   "execution_count": 320,
   "metadata": {
    "id": "AC_65VsoG3EV"
   },
   "outputs": [
    {
     "data": {
      "text/html": [
       "<div>\n",
       "<style scoped>\n",
       "    .dataframe tbody tr th:only-of-type {\n",
       "        vertical-align: middle;\n",
       "    }\n",
       "\n",
       "    .dataframe tbody tr th {\n",
       "        vertical-align: top;\n",
       "    }\n",
       "\n",
       "    .dataframe thead th {\n",
       "        text-align: right;\n",
       "    }\n",
       "</style>\n",
       "<table border=\"1\" class=\"dataframe\">\n",
       "  <thead>\n",
       "    <tr style=\"text-align: right;\">\n",
       "      <th></th>\n",
       "      <th>id</th>\n",
       "      <th>COLLEGE</th>\n",
       "      <th>INCOME</th>\n",
       "      <th>OVERAGE</th>\n",
       "      <th>LEFTOVER</th>\n",
       "      <th>HOUSE</th>\n",
       "      <th>HANDSET_PRICE</th>\n",
       "      <th>OVER_15MINS_CALLS_PER_MONTH</th>\n",
       "      <th>AVERAGE_CALL_DURATION</th>\n",
       "      <th>REPORTED_SATISFACTION</th>\n",
       "      <th>REPORTED_USAGE_LEVEL</th>\n",
       "      <th>CONSIDERING_CHANGE_OF_PLAN</th>\n",
       "      <th>CHURN</th>\n",
       "    </tr>\n",
       "  </thead>\n",
       "  <tbody>\n",
       "    <tr>\n",
       "      <th>0</th>\n",
       "      <td>544</td>\n",
       "      <td>1</td>\n",
       "      <td>47711</td>\n",
       "      <td>183</td>\n",
       "      <td>17</td>\n",
       "      <td>730589.0</td>\n",
       "      <td>192</td>\n",
       "      <td>19</td>\n",
       "      <td>5</td>\n",
       "      <td>unsat</td>\n",
       "      <td>little</td>\n",
       "      <td>considering</td>\n",
       "      <td>0</td>\n",
       "    </tr>\n",
       "    <tr>\n",
       "      <th>1</th>\n",
       "      <td>689</td>\n",
       "      <td>0</td>\n",
       "      <td>74132</td>\n",
       "      <td>191</td>\n",
       "      <td>43</td>\n",
       "      <td>535092.0</td>\n",
       "      <td>349</td>\n",
       "      <td>15</td>\n",
       "      <td>2</td>\n",
       "      <td>unsat</td>\n",
       "      <td>very_little</td>\n",
       "      <td>no</td>\n",
       "      <td>1</td>\n",
       "    </tr>\n",
       "    <tr>\n",
       "      <th>2</th>\n",
       "      <td>3134</td>\n",
       "      <td>1</td>\n",
       "      <td>150419</td>\n",
       "      <td>0</td>\n",
       "      <td>14</td>\n",
       "      <td>204004.0</td>\n",
       "      <td>682</td>\n",
       "      <td>0</td>\n",
       "      <td>6</td>\n",
       "      <td>unsat</td>\n",
       "      <td>very_high</td>\n",
       "      <td>considering</td>\n",
       "      <td>0</td>\n",
       "    </tr>\n",
       "    <tr>\n",
       "      <th>3</th>\n",
       "      <td>12523</td>\n",
       "      <td>0</td>\n",
       "      <td>159567</td>\n",
       "      <td>0</td>\n",
       "      <td>58</td>\n",
       "      <td>281969.0</td>\n",
       "      <td>634</td>\n",
       "      <td>1</td>\n",
       "      <td>1</td>\n",
       "      <td>very_unsat</td>\n",
       "      <td>very_high</td>\n",
       "      <td>never_thought</td>\n",
       "      <td>0</td>\n",
       "    </tr>\n",
       "    <tr>\n",
       "      <th>4</th>\n",
       "      <td>2374</td>\n",
       "      <td>1</td>\n",
       "      <td>23392</td>\n",
       "      <td>0</td>\n",
       "      <td>0</td>\n",
       "      <td>216707.0</td>\n",
       "      <td>233</td>\n",
       "      <td>0</td>\n",
       "      <td>15</td>\n",
       "      <td>unsat</td>\n",
       "      <td>very_little</td>\n",
       "      <td>no</td>\n",
       "      <td>1</td>\n",
       "    </tr>\n",
       "  </tbody>\n",
       "</table>\n",
       "</div>"
      ],
      "text/plain": [
       "      id  COLLEGE  INCOME  OVERAGE  LEFTOVER     HOUSE  HANDSET_PRICE  \\\n",
       "0    544        1   47711      183        17  730589.0            192   \n",
       "1    689        0   74132      191        43  535092.0            349   \n",
       "2   3134        1  150419        0        14  204004.0            682   \n",
       "3  12523        0  159567        0        58  281969.0            634   \n",
       "4   2374        1   23392        0         0  216707.0            233   \n",
       "\n",
       "   OVER_15MINS_CALLS_PER_MONTH  AVERAGE_CALL_DURATION REPORTED_SATISFACTION  \\\n",
       "0                           19                      5                 unsat   \n",
       "1                           15                      2                 unsat   \n",
       "2                            0                      6                 unsat   \n",
       "3                            1                      1            very_unsat   \n",
       "4                            0                     15                 unsat   \n",
       "\n",
       "  REPORTED_USAGE_LEVEL CONSIDERING_CHANGE_OF_PLAN  CHURN  \n",
       "0               little                considering      0  \n",
       "1          very_little                         no      1  \n",
       "2            very_high                considering      0  \n",
       "3            very_high              never_thought      0  \n",
       "4          very_little                         no      1  "
      ]
     },
     "execution_count": 320,
     "metadata": {},
     "output_type": "execute_result"
    }
   ],
   "source": [
    "# mobile data\n",
    "data_path = \"https://raw.githubusercontent.com/DA4BAM/dataset/master/mobile_NA2.csv\"\n",
    "data = pd.read_csv(data_path)\n",
    "data.head()"
   ]
  },
  {
   "cell_type": "markdown",
   "metadata": {
    "id": "2VGIfdrXAvw_"
   },
   "source": [
    "|변수 명|내용|구분|\n",
    "|\t----\t|\t----\t|\t----\t|\n",
    "|\tCOLLEGE\t|\t대학졸업 여부(1,0) - 범주\t|\t\t|\n",
    "|\tINCOME\t|\t연 수입액(달러)\t|\t\t|\n",
    "|\tOVERAGE\t|\t월 초과사용 시간(분)\t|\t\t|\n",
    "|\tLEFTOVER\t|\t월 사용 잔여시간비율(%)\t|\t\t|\n",
    "|\tHOUSE\t|\t집 가격(달러)\t|\t\t|\n",
    "|\tHANDSET_PRICE\t|\t핸드폰 가격(달러)\t|\t\t|\n",
    "|\tOVER_15MINS_CALLS_PER_MONTH\t|\t 평균 장기통화(15분 이상) 횟수\t|\t\t|\n",
    "|\tAVERAGE_CALL_DURATION\t|\t평균 통화시간(분)\t|\t\t|\n",
    "|\tREPORTED_SATISFACTION\t|\t만족도 설문('very_unsat', 'unsat', 'avg', 'sat', 'very_sat' ) - 범주\t|\t\t|\n",
    "|\tREPORTED_USAGE_LEVEL\t|\t사용 수준 설문('very_little', 'little', 'avg', 'high', 'very_high') - 범주\t|\t\t|\n",
    "|\tCONSIDERING_CHANGE_OF_PLAN\t|\t변경 계획 설문('never_thought', 'no', 'perhaps', 'considering',   'actively_looking_into_it') - 범주\t|\t\t|\n",
    "|\t**CHURN**\t|\t이탈여부(1 : 이탈, 0 : 잔류)\t|\t**Target**\t|\n"
   ]
  },
  {
   "cell_type": "markdown",
   "metadata": {
    "id": "bKimk8qVm8oC"
   },
   "source": [
    "----"
   ]
  },
  {
   "cell_type": "markdown",
   "metadata": {
    "id": "0bouXLxGkSSd"
   },
   "source": [
    "## 1.데이터 탐색"
   ]
  },
  {
   "cell_type": "code",
   "execution_count": 323,
   "metadata": {},
   "outputs": [
    {
     "data": {
      "image/png": "[encoded data removed]",
      "text/plain": [
       "<Figure size 432x288 with 1 Axes>"
      ]
     },
     "metadata": {},
     "output_type": "display_data"
    }
   ],
   "source": [
    "# 이탈율일 시각화 해보니 거의 50:50으로 나타났다.\n",
    "# 타겟 데이터의 균형이 맞춰져 있는 것을 확인할 수 있었다.\n",
    "college = mobile['CHURN'].value_counts()\n",
    "x = college.index\n",
    "y = college.values\n",
    "\n",
    "plt.pie( y , labels = x , autopct = '%.1f%%')\n",
    "plt.show()"
   ]
  },
  {
   "cell_type": "code",
   "execution_count": 324,
   "metadata": {},
   "outputs": [
    {
     "data": {
      "text/plain": [
       "<AxesSubplot:xlabel='HOUSE', ylabel='Count'>"
      ]
     },
     "execution_count": 324,
     "metadata": {},
     "output_type": "execute_result"
    },
    {
     "data": {
      "image/png": "[encoded data removed]",
      "text/plain": [
       "<Figure size 432x288 with 1 Axes>"
      ]
     },
     "metadata": {
      "needs_background": "light"
     },
     "output_type": "display_data"
    }
   ],
   "source": [
    "# 집값에 대해서 시각화를 해 보았다.\n",
    "# '0.2_0.5', '0.5_0.8', '0.8_1.2', '1.2_1.6' 네 그룹으로 나누어서 비교해 볼수 있을것 같다.\n",
    "sns.histplot(x='HOUSE', data=data)"
   ]
  },
  {
   "cell_type": "code",
   "execution_count": 325,
   "metadata": {},
   "outputs": [
    {
     "data": {
      "text/plain": [
       "<AxesSubplot:xlabel='HOUSE', ylabel='Count'>"
      ]
     },
     "execution_count": 325,
     "metadata": {},
     "output_type": "execute_result"
    },
    {
     "data": {
      "image/png": "[encoded data removed]",
      "text/plain": [
       "<Figure size 432x288 with 1 Axes>"
      ]
     },
     "metadata": {
      "needs_background": "light"
     },
     "output_type": "display_data"
    }
   ],
   "source": [
    "# 집값이 낮은 사람들의 경우 이탈율이 더 높은 것을 볼 수 있다.\n",
    "# 대부분의 집값은 지역적으로 비슷하게 나타난다.\n",
    "# 집값이 낮은 지역에서 해당 통신사의 통신 서비스 질이 나쁘지 않은지 확인해 볼 필요가 있다.\n",
    "sns.histplot(x='HOUSE', hue='CHURN',data=data)"
   ]
  },
  {
   "cell_type": "code",
   "execution_count": 326,
   "metadata": {},
   "outputs": [
    {
     "data": {
      "text/plain": [
       "<AxesSubplot:xlabel='INCOME', ylabel='Count'>"
      ]
     },
     "execution_count": 326,
     "metadata": {},
     "output_type": "execute_result"
    },
    {
     "data": {
      "image/png": "[encoded data removed]",
      "text/plain": [
       "<Figure size 432x288 with 1 Axes>"
      ]
     },
     "metadata": {
      "needs_background": "light"
     },
     "output_type": "display_data"
    }
   ],
   "source": [
    "# 연 수입액에 대해서 그래프를 그려보았다.\n",
    "# HOUSE 변수와 유사한 형태를 띄는 것을 확인할 수 있다.\n",
    "# 연 수입 또한 '20000_50000', '50001_80000', '80001_120000', '120001_160000' 네 그룹으로 나누어 비교해 볼 수 있을 것 같다.\n",
    "sns.histplot(x='INCOME', data=data)"
   ]
  },
  {
   "cell_type": "code",
   "execution_count": 327,
   "metadata": {},
   "outputs": [
    {
     "data": {
      "text/plain": [
       "<AxesSubplot:xlabel='INCOME', ylabel='Count'>"
      ]
     },
     "execution_count": 327,
     "metadata": {},
     "output_type": "execute_result"
    },
    {
     "data": {
      "image/png": "[encoded data removed]",
      "text/plain": [
       "<Figure size 432x288 with 1 Axes>"
      ]
     },
     "metadata": {
      "needs_background": "light"
     },
     "output_type": "display_data"
    }
   ],
   "source": [
    "#고소득자의 경우 이탈율이 높은 것을 확인할 수 있다.\n",
    "# 고소득자들이 느끼기에 자신들이 지불하는 금액에 비해 서비스의 질이 떨어진다고 느끼는 것 같다.\n",
    "# 연 수입이 많은 사람들이 사용하는 요금제를 분석해 볼 필요가 있다.\n",
    "sns.histplot(x='INCOME', hue='CHURN',data=data)"
   ]
  },
  {
   "cell_type": "code",
   "execution_count": 328,
   "metadata": {},
   "outputs": [
    {
     "data": {
      "image/png": "[encoded data removed]",
      "text/plain": [
       "<Figure size 432x288 with 3 Axes>"
      ]
     },
     "metadata": {
      "needs_background": "light"
     },
     "output_type": "display_data"
    }
   ],
   "source": [
    "# 월 초과 사용 시간에 대해서 그래프를 그려보았다.\n",
    "# 초과 사용이 없는 그룸(0), 초과 하는 그룹(1~100), 많이 초과하는 그룹(101~30)으로 나누어서 비교해보면 좋을 것 같다.\n",
    "plt.subplot(3,1,1)\n",
    "sns.histplot(x = 'OVERAGE', data=data)\n",
    "\n",
    "plt.subplot(3,1,2)\n",
    "sns.kdeplot(x = 'OVERAGE', data = data )\n",
    "\n",
    "plt.subplot(3,1,3)\n",
    "sns.boxplot(x = 'OVERAGE', data = data)\n",
    "\n",
    "plt.show()"
   ]
  },
  {
   "cell_type": "code",
   "execution_count": 329,
   "metadata": {},
   "outputs": [
    {
     "data": {
      "text/plain": [
       "<AxesSubplot:xlabel='LEFTOVER', ylabel='Count'>"
      ]
     },
     "execution_count": 329,
     "metadata": {},
     "output_type": "execute_result"
    },
    {
     "data": {
      "image/png": "[encoded data removed]",
      "text/plain": [
       "<Figure size 432x288 with 1 Axes>"
      ]
     },
     "metadata": {
      "needs_background": "light"
     },
     "output_type": "display_data"
    }
   ],
   "source": [
    "# LEFTOVER 변수를 시각화 하였다.\n",
    "# 극겹하게 떨어지는 0과 1~24,25~60, 60~ 나머지 부분을 그룹화하여 비교하면 좋을것 같다. \n",
    "sns.histplot(x = 'LEFTOVER', data = data)"
   ]
  },
  {
   "cell_type": "code",
   "execution_count": 330,
   "metadata": {},
   "outputs": [
    {
     "data": {
      "text/plain": [
       "<AxesSubplot:xlabel='LEFTOVER', ylabel='Count'>"
      ]
     },
     "execution_count": 330,
     "metadata": {},
     "output_type": "execute_result"
    },
    {
     "data": {
      "image/png": "[encoded data removed]",
      "text/plain": [
       "<Figure size 432x288 with 1 Axes>"
      ]
     },
     "metadata": {
      "needs_background": "light"
     },
     "output_type": "display_data"
    }
   ],
   "source": [
    "# 통화시간이 남지 않은 사람들과 과하게 많이 남은 사람들이 이탈 비율이 높은 것을 확인할 수 잇다.\n",
    "# \n",
    "sns.histplot(x = 'LEFTOVER', hue='CHURN', data = data)"
   ]
  },
  {
   "cell_type": "code",
   "execution_count": 331,
   "metadata": {},
   "outputs": [
    {
     "data": {
      "text/plain": [
       "<AxesSubplot:xlabel='OVER_15MINS_CALLS_PER_MONTH', ylabel='Count'>"
      ]
     },
     "execution_count": 331,
     "metadata": {},
     "output_type": "execute_result"
    },
    {
     "data": {
      "image/png": "[encoded data removed]",
      "text/plain": [
       "<Figure size 432x288 with 1 Axes>"
      ]
     },
     "metadata": {
      "needs_background": "light"
     },
     "output_type": "display_data"
    }
   ],
   "source": [
    "# 평균 15분 이상 통화를 하지 않는 사람들이 압도적으로 많다.\n",
    "sns.histplot(x = 'OVER_15MINS_CALLS_PER_MONTH', data = data)"
   ]
  },
  {
   "cell_type": "code",
   "execution_count": 332,
   "metadata": {},
   "outputs": [
    {
     "data": {
      "text/plain": [
       "<AxesSubplot:xlabel='OVER_15MINS_CALLS_PER_MONTH', ylabel='Count'>"
      ]
     },
     "execution_count": 332,
     "metadata": {},
     "output_type": "execute_result"
    },
    {
     "data": {
      "image/png": "[encoded data removed]",
      "text/plain": [
       "<Figure size 432x288 with 1 Axes>"
      ]
     },
     "metadata": {
      "needs_background": "light"
     },
     "output_type": "display_data"
    }
   ],
   "source": [
    "# 평균 15분 이상 통화를 하는 횟수가 많은 사람들의 이탈율이 높은 것을 볼 수 있다.\n",
    "# 우리는 고객을 유지하는 것이 목적이기 때문에 현재 이탈이 1인 고객들을 0으로 바꾸는 것이 중요하다.\n",
    "# 해당그래프를 보면 횟수가 10회 이상 되는 고객들의 그룹과 그렇지 않는 그룹의 이탈 비율이 확연하게 다르다.\n",
    "# 그말은 10회 이상  고객들의 이탈율을 낮추면 자연스럽게 유지되는 고객 수가 늘것이다.\n",
    "sns.histplot(x = 'OVER_15MINS_CALLS_PER_MONTH', hue='CHURN', data = data)"
   ]
  },
  {
   "cell_type": "code",
   "execution_count": 333,
   "metadata": {},
   "outputs": [
    {
     "data": {
      "text/plain": [
       "<AxesSubplot:xlabel='REPORTED_SATISFACTION', ylabel='count'>"
      ]
     },
     "execution_count": 333,
     "metadata": {},
     "output_type": "execute_result"
    },
    {
     "data": {
      "image/png": "[encoded data removed]",
      "text/plain": [
       "<Figure size 432x288 with 1 Axes>"
      ]
     },
     "metadata": {
      "needs_background": "light"
     },
     "output_type": "display_data"
    }
   ],
   "source": [
    "# 만족도 설문조사에 따른 이탈 여부를 시각화 해보았다.\n",
    "# 만족도에 상관없이 이탈하는 고객은 50:50 인것을 확인 할 수 있다.\n",
    "sns.countplot(data['REPORTED_SATISFACTION'], \n",
    "              order = ['very_unsat','unsat', 'avg', 'sat', 'very_sat'],\n",
    "             hue = data['CHURN'])"
   ]
  },
  {
   "cell_type": "code",
   "execution_count": 334,
   "metadata": {},
   "outputs": [
    {
     "data": {
      "text/plain": [
       "(array([0, 1, 2, 3, 4]),\n",
       " [Text(0, 0, 'actively_looking_into_it'),\n",
       "  Text(1, 0, 'considering'),\n",
       "  Text(2, 0, 'perhaps'),\n",
       "  Text(3, 0, 'no'),\n",
       "  Text(4, 0, 'never_thought')])"
      ]
     },
     "execution_count": 334,
     "metadata": {},
     "output_type": "execute_result"
    },
    {
     "data": {
      "image/png": "[encoded data removed]",
      "text/plain": [
       "<Figure size 432x288 with 1 Axes>"
      ]
     },
     "metadata": {
      "needs_background": "light"
     },
     "output_type": "display_data"
    }
   ],
   "source": [
    "# 휴대폰 변경 여부 설문조사에 따른 이탈 여부를 시각화 해보았다.\n",
    "# 변경 여부에 관계없이 이탈율은 50:50으로 나타나는 것을 확인할 수 있다.\n",
    "sns.countplot(data['CONSIDERING_CHANGE_OF_PLAN'], \n",
    "              order = ['actively_looking_into_it', 'considering',  'perhaps', 'no','never_thought'],\n",
    "             hue = data['CHURN'])\n",
    "plt.xticks(rotation=30)"
   ]
  },
  {
   "cell_type": "markdown",
   "metadata": {
    "id": "PRXJWyibZTJN"
   },
   "source": [
    "## 2.데이터 전처리 "
   ]
  },
  {
   "cell_type": "code",
   "execution_count": 335,
   "metadata": {
    "id": "vtn0hI98urCt"
   },
   "outputs": [],
   "source": [
    "target = 'CHURN'"
   ]
  },
  {
   "cell_type": "markdown",
   "metadata": {
    "id": "OftPNXa1EPeV"
   },
   "source": [
    "### 2.1 데이터 정리"
   ]
  },
  {
   "cell_type": "markdown",
   "metadata": {
    "id": "mk_WSjzdnLLE"
   },
   "source": [
    "* feature와 , target으로 분할"
   ]
  },
  {
   "cell_type": "code",
   "execution_count": 336,
   "metadata": {
    "id": "hKx1tqpEEPeV"
   },
   "outputs": [],
   "source": [
    "x = data.drop(target, axis = 1)\n",
    "y = data.loc[:, target]"
   ]
  },
  {
   "cell_type": "markdown",
   "metadata": {
    "id": "a_EtSMDQnMQ5"
   },
   "source": [
    "* 불필요한 feature 제거\n",
    "    * 제거해야 할 feature를 선정하고 제거하시오. 제거 이유를 주석으로 기술합니다."
   ]
  },
  {
   "cell_type": "code",
   "execution_count": 337,
   "metadata": {
    "id": "86yIoNg7nNuu"
   },
   "outputs": [
    {
     "data": {
      "text/html": [
       "<div>\n",
       "<style scoped>\n",
       "    .dataframe tbody tr th:only-of-type {\n",
       "        vertical-align: middle;\n",
       "    }\n",
       "\n",
       "    .dataframe tbody tr th {\n",
       "        vertical-align: top;\n",
       "    }\n",
       "\n",
       "    .dataframe thead th {\n",
       "        text-align: right;\n",
       "    }\n",
       "</style>\n",
       "<table border=\"1\" class=\"dataframe\">\n",
       "  <thead>\n",
       "    <tr style=\"text-align: right;\">\n",
       "      <th></th>\n",
       "      <th>COLLEGE</th>\n",
       "      <th>INCOME</th>\n",
       "      <th>OVERAGE</th>\n",
       "      <th>LEFTOVER</th>\n",
       "      <th>HOUSE</th>\n",
       "      <th>HANDSET_PRICE</th>\n",
       "      <th>OVER_15MINS_CALLS_PER_MONTH</th>\n",
       "      <th>AVERAGE_CALL_DURATION</th>\n",
       "      <th>REPORTED_SATISFACTION</th>\n",
       "      <th>REPORTED_USAGE_LEVEL</th>\n",
       "      <th>CONSIDERING_CHANGE_OF_PLAN</th>\n",
       "    </tr>\n",
       "  </thead>\n",
       "  <tbody>\n",
       "    <tr>\n",
       "      <th>0</th>\n",
       "      <td>1</td>\n",
       "      <td>47711</td>\n",
       "      <td>183</td>\n",
       "      <td>17</td>\n",
       "      <td>730589.0</td>\n",
       "      <td>192</td>\n",
       "      <td>19</td>\n",
       "      <td>5</td>\n",
       "      <td>unsat</td>\n",
       "      <td>little</td>\n",
       "      <td>considering</td>\n",
       "    </tr>\n",
       "    <tr>\n",
       "      <th>1</th>\n",
       "      <td>0</td>\n",
       "      <td>74132</td>\n",
       "      <td>191</td>\n",
       "      <td>43</td>\n",
       "      <td>535092.0</td>\n",
       "      <td>349</td>\n",
       "      <td>15</td>\n",
       "      <td>2</td>\n",
       "      <td>unsat</td>\n",
       "      <td>very_little</td>\n",
       "      <td>no</td>\n",
       "    </tr>\n",
       "    <tr>\n",
       "      <th>2</th>\n",
       "      <td>1</td>\n",
       "      <td>150419</td>\n",
       "      <td>0</td>\n",
       "      <td>14</td>\n",
       "      <td>204004.0</td>\n",
       "      <td>682</td>\n",
       "      <td>0</td>\n",
       "      <td>6</td>\n",
       "      <td>unsat</td>\n",
       "      <td>very_high</td>\n",
       "      <td>considering</td>\n",
       "    </tr>\n",
       "    <tr>\n",
       "      <th>3</th>\n",
       "      <td>0</td>\n",
       "      <td>159567</td>\n",
       "      <td>0</td>\n",
       "      <td>58</td>\n",
       "      <td>281969.0</td>\n",
       "      <td>634</td>\n",
       "      <td>1</td>\n",
       "      <td>1</td>\n",
       "      <td>very_unsat</td>\n",
       "      <td>very_high</td>\n",
       "      <td>never_thought</td>\n",
       "    </tr>\n",
       "    <tr>\n",
       "      <th>4</th>\n",
       "      <td>1</td>\n",
       "      <td>23392</td>\n",
       "      <td>0</td>\n",
       "      <td>0</td>\n",
       "      <td>216707.0</td>\n",
       "      <td>233</td>\n",
       "      <td>0</td>\n",
       "      <td>15</td>\n",
       "      <td>unsat</td>\n",
       "      <td>very_little</td>\n",
       "      <td>no</td>\n",
       "    </tr>\n",
       "    <tr>\n",
       "      <th>5</th>\n",
       "      <td>1</td>\n",
       "      <td>119591</td>\n",
       "      <td>0</td>\n",
       "      <td>43</td>\n",
       "      <td>231309.0</td>\n",
       "      <td>714</td>\n",
       "      <td>1</td>\n",
       "      <td>1</td>\n",
       "      <td>very_sat</td>\n",
       "      <td>little</td>\n",
       "      <td>considering</td>\n",
       "    </tr>\n",
       "    <tr>\n",
       "      <th>6</th>\n",
       "      <td>1</td>\n",
       "      <td>99548</td>\n",
       "      <td>235</td>\n",
       "      <td>0</td>\n",
       "      <td>238561.0</td>\n",
       "      <td>294</td>\n",
       "      <td>15</td>\n",
       "      <td>6</td>\n",
       "      <td>very_unsat</td>\n",
       "      <td>little</td>\n",
       "      <td>actively_looking_into_it</td>\n",
       "    </tr>\n",
       "    <tr>\n",
       "      <th>7</th>\n",
       "      <td>1</td>\n",
       "      <td>63338</td>\n",
       "      <td>50</td>\n",
       "      <td>57</td>\n",
       "      <td>394791.0</td>\n",
       "      <td>362</td>\n",
       "      <td>4</td>\n",
       "      <td>1</td>\n",
       "      <td>sat</td>\n",
       "      <td>little</td>\n",
       "      <td>no</td>\n",
       "    </tr>\n",
       "    <tr>\n",
       "      <th>8</th>\n",
       "      <td>1</td>\n",
       "      <td>133496</td>\n",
       "      <td>163</td>\n",
       "      <td>11</td>\n",
       "      <td>166179.0</td>\n",
       "      <td>864</td>\n",
       "      <td>10</td>\n",
       "      <td>5</td>\n",
       "      <td>NaN</td>\n",
       "      <td>little</td>\n",
       "      <td>actively_looking_into_it</td>\n",
       "    </tr>\n",
       "    <tr>\n",
       "      <th>9</th>\n",
       "      <td>1</td>\n",
       "      <td>155145</td>\n",
       "      <td>29</td>\n",
       "      <td>18</td>\n",
       "      <td>717451.0</td>\n",
       "      <td>671</td>\n",
       "      <td>4</td>\n",
       "      <td>4</td>\n",
       "      <td>unsat</td>\n",
       "      <td>high</td>\n",
       "      <td>considering</td>\n",
       "    </tr>\n",
       "  </tbody>\n",
       "</table>\n",
       "</div>"
      ],
      "text/plain": [
       "   COLLEGE  INCOME  OVERAGE  LEFTOVER     HOUSE  HANDSET_PRICE  \\\n",
       "0        1   47711      183        17  730589.0            192   \n",
       "1        0   74132      191        43  535092.0            349   \n",
       "2        1  150419        0        14  204004.0            682   \n",
       "3        0  159567        0        58  281969.0            634   \n",
       "4        1   23392        0         0  216707.0            233   \n",
       "5        1  119591        0        43  231309.0            714   \n",
       "6        1   99548      235         0  238561.0            294   \n",
       "7        1   63338       50        57  394791.0            362   \n",
       "8        1  133496      163        11  166179.0            864   \n",
       "9        1  155145       29        18  717451.0            671   \n",
       "\n",
       "   OVER_15MINS_CALLS_PER_MONTH  AVERAGE_CALL_DURATION REPORTED_SATISFACTION  \\\n",
       "0                           19                      5                 unsat   \n",
       "1                           15                      2                 unsat   \n",
       "2                            0                      6                 unsat   \n",
       "3                            1                      1            very_unsat   \n",
       "4                            0                     15                 unsat   \n",
       "5                            1                      1              very_sat   \n",
       "6                           15                      6            very_unsat   \n",
       "7                            4                      1                   sat   \n",
       "8                           10                      5                   NaN   \n",
       "9                            4                      4                 unsat   \n",
       "\n",
       "  REPORTED_USAGE_LEVEL CONSIDERING_CHANGE_OF_PLAN  \n",
       "0               little                considering  \n",
       "1          very_little                         no  \n",
       "2            very_high                considering  \n",
       "3            very_high              never_thought  \n",
       "4          very_little                         no  \n",
       "5               little                considering  \n",
       "6               little   actively_looking_into_it  \n",
       "7               little                         no  \n",
       "8               little   actively_looking_into_it  \n",
       "9                 high                considering  "
      ]
     },
     "execution_count": 337,
     "metadata": {},
     "output_type": "execute_result"
    }
   ],
   "source": [
    "x.drop(['id'], axis = 1, inplace = True)\n",
    "x.head(10)"
   ]
  },
  {
   "cell_type": "markdown",
   "metadata": {
    "id": "umpv1ug6ZTJO"
   },
   "source": [
    "### 2.2 NaN에 대한 조치\n",
    "* 데이터에 포함된 NaN에 대해서 조치 방법을 결정하고 적용합니다.\n",
    "* **조치방법을 결정한 이유**를 주석으로 기술합니다."
   ]
  },
  {
   "cell_type": "code",
   "execution_count": 338,
   "metadata": {
    "id": "sYVnI6HJOloF"
   },
   "outputs": [
    {
     "data": {
      "text/plain": [
       "COLLEGE                          0\n",
       "INCOME                           0\n",
       "OVERAGE                          0\n",
       "LEFTOVER                         0\n",
       "HOUSE                          215\n",
       "HANDSET_PRICE                    0\n",
       "OVER_15MINS_CALLS_PER_MONTH      0\n",
       "AVERAGE_CALL_DURATION            0\n",
       "REPORTED_SATISFACTION           38\n",
       "REPORTED_USAGE_LEVEL             0\n",
       "CONSIDERING_CHANGE_OF_PLAN       0\n",
       "dtype: int64"
      ]
     },
     "execution_count": 338,
     "metadata": {},
     "output_type": "execute_result"
    }
   ],
   "source": [
    "# 결측치를 확인해보니 HOUSE 변수와 REPORTED_SATISFACTION 변수에 있었다.\n",
    "x.isna().sum()"
   ]
  },
  {
   "cell_type": "code",
   "execution_count": 339,
   "metadata": {
    "id": "WZWY8B5YOlkS"
   },
   "outputs": [],
   "source": [
    "# 위에서 데이터 분석을 실시했을 떄 HOUSE와 INCOME의 그래프 모양이 유사한 것을 확인 했다.\n",
    "# 연수입을 그룹별로 묶은 다음에 그룹의 평균을 결측치에 넣어주고자 한다.\n",
    "# x 데이터에 IncomeGroup이라는 변수를 생성해 주었다.\n",
    "x['IncomeGroup'] = pd.cut(data['INCOME'], bins=[20000,50000,80000,120000,160000]\n",
    "                              ,labels=['20000_50000', '50001_80000', '80001_120000', '120001_160000'])"
   ]
  },
  {
   "cell_type": "code",
   "execution_count": 49,
   "metadata": {
    "id": "Z3s8KPvBOlgd"
   },
   "outputs": [
    {
     "data": {
      "text/html": [
       "<div>\n",
       "<style scoped>\n",
       "    .dataframe tbody tr th:only-of-type {\n",
       "        vertical-align: middle;\n",
       "    }\n",
       "\n",
       "    .dataframe tbody tr th {\n",
       "        vertical-align: top;\n",
       "    }\n",
       "\n",
       "    .dataframe thead th {\n",
       "        text-align: right;\n",
       "    }\n",
       "</style>\n",
       "<table border=\"1\" class=\"dataframe\">\n",
       "  <thead>\n",
       "    <tr style=\"text-align: right;\">\n",
       "      <th></th>\n",
       "      <th>COLLEGE</th>\n",
       "      <th>INCOME</th>\n",
       "      <th>OVERAGE</th>\n",
       "      <th>LEFTOVER</th>\n",
       "      <th>HOUSE</th>\n",
       "      <th>HANDSET_PRICE</th>\n",
       "      <th>OVER_15MINS_CALLS_PER_MONTH</th>\n",
       "      <th>AVERAGE_CALL_DURATION</th>\n",
       "      <th>REPORTED_SATISFACTION</th>\n",
       "      <th>REPORTED_USAGE_LEVEL</th>\n",
       "      <th>CONSIDERING_CHANGE_OF_PLAN</th>\n",
       "      <th>IncomeGroup</th>\n",
       "    </tr>\n",
       "  </thead>\n",
       "  <tbody>\n",
       "    <tr>\n",
       "      <th>0</th>\n",
       "      <td>1</td>\n",
       "      <td>47711</td>\n",
       "      <td>183</td>\n",
       "      <td>17</td>\n",
       "      <td>730589.0</td>\n",
       "      <td>192</td>\n",
       "      <td>19</td>\n",
       "      <td>5</td>\n",
       "      <td>unsat</td>\n",
       "      <td>little</td>\n",
       "      <td>considering</td>\n",
       "      <td>20000_50000</td>\n",
       "    </tr>\n",
       "    <tr>\n",
       "      <th>1</th>\n",
       "      <td>0</td>\n",
       "      <td>74132</td>\n",
       "      <td>191</td>\n",
       "      <td>43</td>\n",
       "      <td>535092.0</td>\n",
       "      <td>349</td>\n",
       "      <td>15</td>\n",
       "      <td>2</td>\n",
       "      <td>unsat</td>\n",
       "      <td>very_little</td>\n",
       "      <td>no</td>\n",
       "      <td>50001_80000</td>\n",
       "    </tr>\n",
       "    <tr>\n",
       "      <th>2</th>\n",
       "      <td>1</td>\n",
       "      <td>150419</td>\n",
       "      <td>0</td>\n",
       "      <td>14</td>\n",
       "      <td>204004.0</td>\n",
       "      <td>682</td>\n",
       "      <td>0</td>\n",
       "      <td>6</td>\n",
       "      <td>unsat</td>\n",
       "      <td>very_high</td>\n",
       "      <td>considering</td>\n",
       "      <td>120001_160000</td>\n",
       "    </tr>\n",
       "    <tr>\n",
       "      <th>3</th>\n",
       "      <td>0</td>\n",
       "      <td>159567</td>\n",
       "      <td>0</td>\n",
       "      <td>58</td>\n",
       "      <td>281969.0</td>\n",
       "      <td>634</td>\n",
       "      <td>1</td>\n",
       "      <td>1</td>\n",
       "      <td>very_unsat</td>\n",
       "      <td>very_high</td>\n",
       "      <td>never_thought</td>\n",
       "      <td>120001_160000</td>\n",
       "    </tr>\n",
       "    <tr>\n",
       "      <th>4</th>\n",
       "      <td>1</td>\n",
       "      <td>23392</td>\n",
       "      <td>0</td>\n",
       "      <td>0</td>\n",
       "      <td>216707.0</td>\n",
       "      <td>233</td>\n",
       "      <td>0</td>\n",
       "      <td>15</td>\n",
       "      <td>unsat</td>\n",
       "      <td>very_little</td>\n",
       "      <td>no</td>\n",
       "      <td>20000_50000</td>\n",
       "    </tr>\n",
       "  </tbody>\n",
       "</table>\n",
       "</div>"
      ],
      "text/plain": [
       "   COLLEGE  INCOME  OVERAGE  LEFTOVER     HOUSE  HANDSET_PRICE  \\\n",
       "0        1   47711      183        17  730589.0            192   \n",
       "1        0   74132      191        43  535092.0            349   \n",
       "2        1  150419        0        14  204004.0            682   \n",
       "3        0  159567        0        58  281969.0            634   \n",
       "4        1   23392        0         0  216707.0            233   \n",
       "\n",
       "   OVER_15MINS_CALLS_PER_MONTH  AVERAGE_CALL_DURATION REPORTED_SATISFACTION  \\\n",
       "0                           19                      5                 unsat   \n",
       "1                           15                      2                 unsat   \n",
       "2                            0                      6                 unsat   \n",
       "3                            1                      1            very_unsat   \n",
       "4                            0                     15                 unsat   \n",
       "\n",
       "  REPORTED_USAGE_LEVEL CONSIDERING_CHANGE_OF_PLAN    IncomeGroup  \n",
       "0               little                considering    20000_50000  \n",
       "1          very_little                         no    50001_80000  \n",
       "2            very_high                considering  120001_160000  \n",
       "3            very_high              never_thought  120001_160000  \n",
       "4          very_little                         no    20000_50000  "
      ]
     },
     "execution_count": 49,
     "metadata": {},
     "output_type": "execute_result"
    }
   ],
   "source": [
    "x.head()"
   ]
  },
  {
   "cell_type": "code",
   "execution_count": 340,
   "metadata": {},
   "outputs": [],
   "source": [
    "# HOUSE 변수에 IncomeGroup(연수입을 그룹화 한 변수)의 중앙값들을 넣어주어 결측치를 채웠다.\n",
    "x['HOUSE'].fillna(x.groupby('IncomeGroup')['INCOME'].transform('median'), inplace = True)"
   ]
  },
  {
   "cell_type": "code",
   "execution_count": 341,
   "metadata": {},
   "outputs": [
    {
     "data": {
      "text/plain": [
       "COLLEGE                         0\n",
       "INCOME                          0\n",
       "OVERAGE                         0\n",
       "LEFTOVER                        0\n",
       "HOUSE                           0\n",
       "HANDSET_PRICE                   0\n",
       "OVER_15MINS_CALLS_PER_MONTH     0\n",
       "AVERAGE_CALL_DURATION           0\n",
       "REPORTED_SATISFACTION          38\n",
       "REPORTED_USAGE_LEVEL            0\n",
       "CONSIDERING_CHANGE_OF_PLAN      0\n",
       "IncomeGroup                     0\n",
       "dtype: int64"
      ]
     },
     "execution_count": 341,
     "metadata": {},
     "output_type": "execute_result"
    }
   ],
   "source": [
    "x.isna().sum()"
   ]
  },
  {
   "cell_type": "markdown",
   "metadata": {
    "id": "NC48TbT7FoYM"
   },
   "source": [
    "### 2.3 (옵션) 추가변수 도출\n",
    "* 기존 데이터셋의 변수를 이용하여 추가로 도출할 수 있는 변수가 있다면 수행합니다.\n",
    "* 추가변수 생성시, 이유에 대해서 **주석**으로 기술합니다."
   ]
  },
  {
   "cell_type": "code",
   "execution_count": 342,
   "metadata": {},
   "outputs": [],
   "source": [
    "copy_data = data.copy()"
   ]
  },
  {
   "cell_type": "code",
   "execution_count": 343,
   "metadata": {
    "id": "eEi54e5ZFnU1"
   },
   "outputs": [],
   "source": [
    "# 만족도 설문의 결과를 1부터 5까지로 수치화 시킨다.\n",
    "copy_data['REPORTED_SATISFACTION'].replace({'very_unsat':1,'unsat':2,'avg':3,'sat':4,'very_sat':5}, inplace=True)"
   ]
  },
  {
   "cell_type": "code",
   "execution_count": 344,
   "metadata": {
    "id": "WDiZkMCkU1Bf"
   },
   "outputs": [],
   "source": [
    "# 변경계획 설문의 결과를 1부터 5까지로 수치화 시킨다.\n",
    "copy_data['CONSIDERING_CHANGE_OF_PLAN'].replace({'never_thought':5, 'no':4, 'perhaps':3, 'considering':3,   'actively_looking_into_it':1}, inplace=True)"
   ]
  },
  {
   "cell_type": "code",
   "execution_count": 345,
   "metadata": {},
   "outputs": [],
   "source": [
    "# SCORE 변수에 수치화한 두 설문의 값을 더 한다.\n",
    "# 만족도가 최악이고 바꿀 계획이 있으면 2점, 만족도가 최상이고 바꿀 계획이 없으면 10점이다.\n",
    "x['SCORE'] = copy_data['REPORTED_SATISFACTION'] + copy_data['CONSIDERING_CHANGE_OF_PLAN']"
   ]
  },
  {
   "cell_type": "code",
   "execution_count": 346,
   "metadata": {},
   "outputs": [
    {
     "data": {
      "text/html": [
       "<div>\n",
       "<style scoped>\n",
       "    .dataframe tbody tr th:only-of-type {\n",
       "        vertical-align: middle;\n",
       "    }\n",
       "\n",
       "    .dataframe tbody tr th {\n",
       "        vertical-align: top;\n",
       "    }\n",
       "\n",
       "    .dataframe thead th {\n",
       "        text-align: right;\n",
       "    }\n",
       "</style>\n",
       "<table border=\"1\" class=\"dataframe\">\n",
       "  <thead>\n",
       "    <tr style=\"text-align: right;\">\n",
       "      <th></th>\n",
       "      <th>COLLEGE</th>\n",
       "      <th>INCOME</th>\n",
       "      <th>OVERAGE</th>\n",
       "      <th>LEFTOVER</th>\n",
       "      <th>HOUSE</th>\n",
       "      <th>HANDSET_PRICE</th>\n",
       "      <th>OVER_15MINS_CALLS_PER_MONTH</th>\n",
       "      <th>AVERAGE_CALL_DURATION</th>\n",
       "      <th>REPORTED_SATISFACTION</th>\n",
       "      <th>REPORTED_USAGE_LEVEL</th>\n",
       "      <th>CONSIDERING_CHANGE_OF_PLAN</th>\n",
       "      <th>IncomeGroup</th>\n",
       "      <th>SCORE</th>\n",
       "    </tr>\n",
       "  </thead>\n",
       "  <tbody>\n",
       "    <tr>\n",
       "      <th>0</th>\n",
       "      <td>1</td>\n",
       "      <td>47711</td>\n",
       "      <td>183</td>\n",
       "      <td>17</td>\n",
       "      <td>730589.0</td>\n",
       "      <td>192</td>\n",
       "      <td>19</td>\n",
       "      <td>5</td>\n",
       "      <td>unsat</td>\n",
       "      <td>little</td>\n",
       "      <td>considering</td>\n",
       "      <td>20000_50000</td>\n",
       "      <td>5.0</td>\n",
       "    </tr>\n",
       "    <tr>\n",
       "      <th>1</th>\n",
       "      <td>0</td>\n",
       "      <td>74132</td>\n",
       "      <td>191</td>\n",
       "      <td>43</td>\n",
       "      <td>535092.0</td>\n",
       "      <td>349</td>\n",
       "      <td>15</td>\n",
       "      <td>2</td>\n",
       "      <td>unsat</td>\n",
       "      <td>very_little</td>\n",
       "      <td>no</td>\n",
       "      <td>50001_80000</td>\n",
       "      <td>6.0</td>\n",
       "    </tr>\n",
       "    <tr>\n",
       "      <th>2</th>\n",
       "      <td>1</td>\n",
       "      <td>150419</td>\n",
       "      <td>0</td>\n",
       "      <td>14</td>\n",
       "      <td>204004.0</td>\n",
       "      <td>682</td>\n",
       "      <td>0</td>\n",
       "      <td>6</td>\n",
       "      <td>unsat</td>\n",
       "      <td>very_high</td>\n",
       "      <td>considering</td>\n",
       "      <td>120001_160000</td>\n",
       "      <td>5.0</td>\n",
       "    </tr>\n",
       "    <tr>\n",
       "      <th>3</th>\n",
       "      <td>0</td>\n",
       "      <td>159567</td>\n",
       "      <td>0</td>\n",
       "      <td>58</td>\n",
       "      <td>281969.0</td>\n",
       "      <td>634</td>\n",
       "      <td>1</td>\n",
       "      <td>1</td>\n",
       "      <td>very_unsat</td>\n",
       "      <td>very_high</td>\n",
       "      <td>never_thought</td>\n",
       "      <td>120001_160000</td>\n",
       "      <td>6.0</td>\n",
       "    </tr>\n",
       "    <tr>\n",
       "      <th>4</th>\n",
       "      <td>1</td>\n",
       "      <td>23392</td>\n",
       "      <td>0</td>\n",
       "      <td>0</td>\n",
       "      <td>216707.0</td>\n",
       "      <td>233</td>\n",
       "      <td>0</td>\n",
       "      <td>15</td>\n",
       "      <td>unsat</td>\n",
       "      <td>very_little</td>\n",
       "      <td>no</td>\n",
       "      <td>20000_50000</td>\n",
       "      <td>6.0</td>\n",
       "    </tr>\n",
       "  </tbody>\n",
       "</table>\n",
       "</div>"
      ],
      "text/plain": [
       "   COLLEGE  INCOME  OVERAGE  LEFTOVER     HOUSE  HANDSET_PRICE  \\\n",
       "0        1   47711      183        17  730589.0            192   \n",
       "1        0   74132      191        43  535092.0            349   \n",
       "2        1  150419        0        14  204004.0            682   \n",
       "3        0  159567        0        58  281969.0            634   \n",
       "4        1   23392        0         0  216707.0            233   \n",
       "\n",
       "   OVER_15MINS_CALLS_PER_MONTH  AVERAGE_CALL_DURATION REPORTED_SATISFACTION  \\\n",
       "0                           19                      5                 unsat   \n",
       "1                           15                      2                 unsat   \n",
       "2                            0                      6                 unsat   \n",
       "3                            1                      1            very_unsat   \n",
       "4                            0                     15                 unsat   \n",
       "\n",
       "  REPORTED_USAGE_LEVEL CONSIDERING_CHANGE_OF_PLAN    IncomeGroup  SCORE  \n",
       "0               little                considering    20000_50000    5.0  \n",
       "1          very_little                         no    50001_80000    6.0  \n",
       "2            very_high                considering  120001_160000    5.0  \n",
       "3            very_high              never_thought  120001_160000    6.0  \n",
       "4          very_little                         no    20000_50000    6.0  "
      ]
     },
     "execution_count": 346,
     "metadata": {},
     "output_type": "execute_result"
    }
   ],
   "source": [
    "x.head()"
   ]
  },
  {
   "cell_type": "code",
   "execution_count": 350,
   "metadata": {},
   "outputs": [
    {
     "data": {
      "text/plain": [
       "<AxesSubplot:xlabel='SCORE', ylabel='Count'>"
      ]
     },
     "execution_count": 350,
     "metadata": {},
     "output_type": "execute_result"
    },
    {
     "data": {
      "image/png": "[encoded data removed]",
      "text/plain": [
       "<Figure size 432x288 with 1 Axes>"
      ]
     },
     "metadata": {
      "needs_background": "light"
     },
     "output_type": "display_data"
    }
   ],
   "source": [
    "# 매우 불만족하고 휴대폰을 바꿀 계획이 있는 사람부터 매우 만족하고 바꿀 계획이 없는 사람들의 설문 지표를 합산하여 시각화 하였다.\n",
    "# 만족 여부와 휴대폰 교체 여부와는 상관없이 이탈율이 50:50으로 나타났다.\n",
    "# 다른 내용의 설문조사를 만들어서 어떤 서비스에 불만족을 갖고 있는 고객이 이탈하는지 알아볼 필요가 있다.\n",
    "data['SCORE'] = copy_data['REPORTED_SATISFACTION'] + copy_data['CONSIDERING_CHANGE_OF_PLAN']\n",
    "sns.histplot(x='SCORE', bins=9, hue=target, data=data)"
   ]
  },
  {
   "cell_type": "markdown",
   "metadata": {
    "id": "zFJ23LikV8A_"
   },
   "source": [
    "### 2.4 가변수화\n",
    "* 범주형 데이터이면서 값이 0,1 로 되어 있는 것이 아니라면, 가변수화를 수행해야 합니다.\n",
    "* 대상이 되는 변수에 대해서 가변수화를 수행해주세요."
   ]
  },
  {
   "cell_type": "code",
   "execution_count": 351,
   "metadata": {
    "id": "1AAfzPjeOm8x"
   },
   "outputs": [],
   "source": [
    "# 기존에 존재 하던 범주형 feature인 ['REPORTED_SATISFACTION','CONSIDERING_CHANGE_OF_PLAN', 'REPORTED_USAGE_LEVEL']를 가변수화 해줬다.\n",
    "# 또한 새로 만든 IncomeGroup도 범주형 feature기 때문에 가변수화 해주었다.\n",
    "dummy_vars = ['REPORTED_SATISFACTION','CONSIDERING_CHANGE_OF_PLAN', 'REPORTED_USAGE_LEVEL', 'IncomeGroup']\n",
    "x = pd.get_dummies(x, columns=dummy_vars, drop_first=True)"
   ]
  },
  {
   "cell_type": "code",
   "execution_count": 352,
   "metadata": {
    "id": "UzJw24AWOm4v"
   },
   "outputs": [
    {
     "data": {
      "text/html": [
       "<div>\n",
       "<style scoped>\n",
       "    .dataframe tbody tr th:only-of-type {\n",
       "        vertical-align: middle;\n",
       "    }\n",
       "\n",
       "    .dataframe tbody tr th {\n",
       "        vertical-align: top;\n",
       "    }\n",
       "\n",
       "    .dataframe thead th {\n",
       "        text-align: right;\n",
       "    }\n",
       "</style>\n",
       "<table border=\"1\" class=\"dataframe\">\n",
       "  <thead>\n",
       "    <tr style=\"text-align: right;\">\n",
       "      <th></th>\n",
       "      <th>COLLEGE</th>\n",
       "      <th>INCOME</th>\n",
       "      <th>OVERAGE</th>\n",
       "      <th>LEFTOVER</th>\n",
       "      <th>HOUSE</th>\n",
       "      <th>HANDSET_PRICE</th>\n",
       "      <th>OVER_15MINS_CALLS_PER_MONTH</th>\n",
       "      <th>AVERAGE_CALL_DURATION</th>\n",
       "      <th>SCORE</th>\n",
       "      <th>REPORTED_SATISFACTION_sat</th>\n",
       "      <th>...</th>\n",
       "      <th>CONSIDERING_CHANGE_OF_PLAN_never_thought</th>\n",
       "      <th>CONSIDERING_CHANGE_OF_PLAN_no</th>\n",
       "      <th>CONSIDERING_CHANGE_OF_PLAN_perhaps</th>\n",
       "      <th>REPORTED_USAGE_LEVEL_high</th>\n",
       "      <th>REPORTED_USAGE_LEVEL_little</th>\n",
       "      <th>REPORTED_USAGE_LEVEL_very_high</th>\n",
       "      <th>REPORTED_USAGE_LEVEL_very_little</th>\n",
       "      <th>IncomeGroup_50001_80000</th>\n",
       "      <th>IncomeGroup_80001_120000</th>\n",
       "      <th>IncomeGroup_120001_160000</th>\n",
       "    </tr>\n",
       "  </thead>\n",
       "  <tbody>\n",
       "    <tr>\n",
       "      <th>0</th>\n",
       "      <td>1</td>\n",
       "      <td>47711</td>\n",
       "      <td>183</td>\n",
       "      <td>17</td>\n",
       "      <td>730589.0</td>\n",
       "      <td>192</td>\n",
       "      <td>19</td>\n",
       "      <td>5</td>\n",
       "      <td>5.0</td>\n",
       "      <td>0</td>\n",
       "      <td>...</td>\n",
       "      <td>0</td>\n",
       "      <td>0</td>\n",
       "      <td>0</td>\n",
       "      <td>0</td>\n",
       "      <td>1</td>\n",
       "      <td>0</td>\n",
       "      <td>0</td>\n",
       "      <td>0</td>\n",
       "      <td>0</td>\n",
       "      <td>0</td>\n",
       "    </tr>\n",
       "    <tr>\n",
       "      <th>1</th>\n",
       "      <td>0</td>\n",
       "      <td>74132</td>\n",
       "      <td>191</td>\n",
       "      <td>43</td>\n",
       "      <td>535092.0</td>\n",
       "      <td>349</td>\n",
       "      <td>15</td>\n",
       "      <td>2</td>\n",
       "      <td>6.0</td>\n",
       "      <td>0</td>\n",
       "      <td>...</td>\n",
       "      <td>0</td>\n",
       "      <td>1</td>\n",
       "      <td>0</td>\n",
       "      <td>0</td>\n",
       "      <td>0</td>\n",
       "      <td>0</td>\n",
       "      <td>1</td>\n",
       "      <td>1</td>\n",
       "      <td>0</td>\n",
       "      <td>0</td>\n",
       "    </tr>\n",
       "    <tr>\n",
       "      <th>2</th>\n",
       "      <td>1</td>\n",
       "      <td>150419</td>\n",
       "      <td>0</td>\n",
       "      <td>14</td>\n",
       "      <td>204004.0</td>\n",
       "      <td>682</td>\n",
       "      <td>0</td>\n",
       "      <td>6</td>\n",
       "      <td>5.0</td>\n",
       "      <td>0</td>\n",
       "      <td>...</td>\n",
       "      <td>0</td>\n",
       "      <td>0</td>\n",
       "      <td>0</td>\n",
       "      <td>0</td>\n",
       "      <td>0</td>\n",
       "      <td>1</td>\n",
       "      <td>0</td>\n",
       "      <td>0</td>\n",
       "      <td>0</td>\n",
       "      <td>1</td>\n",
       "    </tr>\n",
       "    <tr>\n",
       "      <th>3</th>\n",
       "      <td>0</td>\n",
       "      <td>159567</td>\n",
       "      <td>0</td>\n",
       "      <td>58</td>\n",
       "      <td>281969.0</td>\n",
       "      <td>634</td>\n",
       "      <td>1</td>\n",
       "      <td>1</td>\n",
       "      <td>6.0</td>\n",
       "      <td>0</td>\n",
       "      <td>...</td>\n",
       "      <td>1</td>\n",
       "      <td>0</td>\n",
       "      <td>0</td>\n",
       "      <td>0</td>\n",
       "      <td>0</td>\n",
       "      <td>1</td>\n",
       "      <td>0</td>\n",
       "      <td>0</td>\n",
       "      <td>0</td>\n",
       "      <td>1</td>\n",
       "    </tr>\n",
       "    <tr>\n",
       "      <th>4</th>\n",
       "      <td>1</td>\n",
       "      <td>23392</td>\n",
       "      <td>0</td>\n",
       "      <td>0</td>\n",
       "      <td>216707.0</td>\n",
       "      <td>233</td>\n",
       "      <td>0</td>\n",
       "      <td>15</td>\n",
       "      <td>6.0</td>\n",
       "      <td>0</td>\n",
       "      <td>...</td>\n",
       "      <td>0</td>\n",
       "      <td>1</td>\n",
       "      <td>0</td>\n",
       "      <td>0</td>\n",
       "      <td>0</td>\n",
       "      <td>0</td>\n",
       "      <td>1</td>\n",
       "      <td>0</td>\n",
       "      <td>0</td>\n",
       "      <td>0</td>\n",
       "    </tr>\n",
       "  </tbody>\n",
       "</table>\n",
       "<p>5 rows × 24 columns</p>\n",
       "</div>"
      ],
      "text/plain": [
       "   COLLEGE  INCOME  OVERAGE  LEFTOVER     HOUSE  HANDSET_PRICE  \\\n",
       "0        1   47711      183        17  730589.0            192   \n",
       "1        0   74132      191        43  535092.0            349   \n",
       "2        1  150419        0        14  204004.0            682   \n",
       "3        0  159567        0        58  281969.0            634   \n",
       "4        1   23392        0         0  216707.0            233   \n",
       "\n",
       "   OVER_15MINS_CALLS_PER_MONTH  AVERAGE_CALL_DURATION  SCORE  \\\n",
       "0                           19                      5    5.0   \n",
       "1                           15                      2    6.0   \n",
       "2                            0                      6    5.0   \n",
       "3                            1                      1    6.0   \n",
       "4                            0                     15    6.0   \n",
       "\n",
       "   REPORTED_SATISFACTION_sat  ...  CONSIDERING_CHANGE_OF_PLAN_never_thought  \\\n",
       "0                          0  ...                                         0   \n",
       "1                          0  ...                                         0   \n",
       "2                          0  ...                                         0   \n",
       "3                          0  ...                                         1   \n",
       "4                          0  ...                                         0   \n",
       "\n",
       "   CONSIDERING_CHANGE_OF_PLAN_no  CONSIDERING_CHANGE_OF_PLAN_perhaps  \\\n",
       "0                              0                                   0   \n",
       "1                              1                                   0   \n",
       "2                              0                                   0   \n",
       "3                              0                                   0   \n",
       "4                              1                                   0   \n",
       "\n",
       "   REPORTED_USAGE_LEVEL_high  REPORTED_USAGE_LEVEL_little  \\\n",
       "0                          0                            1   \n",
       "1                          0                            0   \n",
       "2                          0                            0   \n",
       "3                          0                            0   \n",
       "4                          0                            0   \n",
       "\n",
       "   REPORTED_USAGE_LEVEL_very_high  REPORTED_USAGE_LEVEL_very_little  \\\n",
       "0                               0                                 0   \n",
       "1                               0                                 1   \n",
       "2                               1                                 0   \n",
       "3                               1                                 0   \n",
       "4                               0                                 1   \n",
       "\n",
       "   IncomeGroup_50001_80000  IncomeGroup_80001_120000  \\\n",
       "0                        0                         0   \n",
       "1                        1                         0   \n",
       "2                        0                         0   \n",
       "3                        0                         0   \n",
       "4                        0                         0   \n",
       "\n",
       "   IncomeGroup_120001_160000  \n",
       "0                          0  \n",
       "1                          0  \n",
       "2                          1  \n",
       "3                          1  \n",
       "4                          0  \n",
       "\n",
       "[5 rows x 24 columns]"
      ]
     },
     "execution_count": 352,
     "metadata": {},
     "output_type": "execute_result"
    }
   ],
   "source": [
    "x.head()"
   ]
  },
  {
   "cell_type": "code",
   "execution_count": 353,
   "metadata": {},
   "outputs": [
    {
     "data": {
      "text/plain": [
       "COLLEGE                                     0\n",
       "INCOME                                      0\n",
       "OVERAGE                                     0\n",
       "LEFTOVER                                    0\n",
       "HOUSE                                       0\n",
       "HANDSET_PRICE                               0\n",
       "OVER_15MINS_CALLS_PER_MONTH                 0\n",
       "AVERAGE_CALL_DURATION                       0\n",
       "SCORE                                       0\n",
       "REPORTED_SATISFACTION_sat                   0\n",
       "REPORTED_SATISFACTION_unsat                 0\n",
       "REPORTED_SATISFACTION_very_sat              0\n",
       "REPORTED_SATISFACTION_very_unsat            0\n",
       "CONSIDERING_CHANGE_OF_PLAN_considering      0\n",
       "CONSIDERING_CHANGE_OF_PLAN_never_thought    0\n",
       "CONSIDERING_CHANGE_OF_PLAN_no               0\n",
       "CONSIDERING_CHANGE_OF_PLAN_perhaps          0\n",
       "REPORTED_USAGE_LEVEL_high                   0\n",
       "REPORTED_USAGE_LEVEL_little                 0\n",
       "REPORTED_USAGE_LEVEL_very_high              0\n",
       "REPORTED_USAGE_LEVEL_very_little            0\n",
       "IncomeGroup_50001_80000                     0\n",
       "IncomeGroup_80001_120000                    0\n",
       "IncomeGroup_120001_160000                   0\n",
       "dtype: int64"
      ]
     },
     "execution_count": 353,
     "metadata": {},
     "output_type": "execute_result"
    }
   ],
   "source": [
    "# REPORTED_SATISFACTION의 결측치의 경우 그리 많지 않았기 떄문에\n",
    "# KNNImputer를 사용해서 결측치를 처리했다.\n",
    "from sklearn.impute import KNNImputer\n",
    "\n",
    "imputer = KNNImputer(n_neighbors=5)\n",
    "imputed = imputer.fit_transform(x)\n",
    "\n",
    "x = pd.DataFrame(imputed, columns=x.columns)\n",
    "x.isna().sum()"
   ]
  },
  {
   "cell_type": "code",
   "execution_count": 354,
   "metadata": {},
   "outputs": [
    {
     "data": {
      "text/html": [
       "<div>\n",
       "<style scoped>\n",
       "    .dataframe tbody tr th:only-of-type {\n",
       "        vertical-align: middle;\n",
       "    }\n",
       "\n",
       "    .dataframe tbody tr th {\n",
       "        vertical-align: top;\n",
       "    }\n",
       "\n",
       "    .dataframe thead th {\n",
       "        text-align: right;\n",
       "    }\n",
       "</style>\n",
       "<table border=\"1\" class=\"dataframe\">\n",
       "  <thead>\n",
       "    <tr style=\"text-align: right;\">\n",
       "      <th></th>\n",
       "      <th>COLLEGE</th>\n",
       "      <th>INCOME</th>\n",
       "      <th>OVERAGE</th>\n",
       "      <th>LEFTOVER</th>\n",
       "      <th>HOUSE</th>\n",
       "      <th>HANDSET_PRICE</th>\n",
       "      <th>OVER_15MINS_CALLS_PER_MONTH</th>\n",
       "      <th>AVERAGE_CALL_DURATION</th>\n",
       "      <th>SCORE</th>\n",
       "      <th>REPORTED_SATISFACTION_sat</th>\n",
       "      <th>...</th>\n",
       "      <th>CONSIDERING_CHANGE_OF_PLAN_never_thought</th>\n",
       "      <th>CONSIDERING_CHANGE_OF_PLAN_no</th>\n",
       "      <th>CONSIDERING_CHANGE_OF_PLAN_perhaps</th>\n",
       "      <th>REPORTED_USAGE_LEVEL_high</th>\n",
       "      <th>REPORTED_USAGE_LEVEL_little</th>\n",
       "      <th>REPORTED_USAGE_LEVEL_very_high</th>\n",
       "      <th>REPORTED_USAGE_LEVEL_very_little</th>\n",
       "      <th>IncomeGroup_50001_80000</th>\n",
       "      <th>IncomeGroup_80001_120000</th>\n",
       "      <th>IncomeGroup_120001_160000</th>\n",
       "    </tr>\n",
       "  </thead>\n",
       "  <tbody>\n",
       "    <tr>\n",
       "      <th>0</th>\n",
       "      <td>1.0</td>\n",
       "      <td>47711.0</td>\n",
       "      <td>183.0</td>\n",
       "      <td>17.0</td>\n",
       "      <td>730589.0</td>\n",
       "      <td>192.0</td>\n",
       "      <td>19.0</td>\n",
       "      <td>5.0</td>\n",
       "      <td>5.0</td>\n",
       "      <td>0.0</td>\n",
       "      <td>...</td>\n",
       "      <td>0.0</td>\n",
       "      <td>0.0</td>\n",
       "      <td>0.0</td>\n",
       "      <td>0.0</td>\n",
       "      <td>1.0</td>\n",
       "      <td>0.0</td>\n",
       "      <td>0.0</td>\n",
       "      <td>0.0</td>\n",
       "      <td>0.0</td>\n",
       "      <td>0.0</td>\n",
       "    </tr>\n",
       "    <tr>\n",
       "      <th>1</th>\n",
       "      <td>0.0</td>\n",
       "      <td>74132.0</td>\n",
       "      <td>191.0</td>\n",
       "      <td>43.0</td>\n",
       "      <td>535092.0</td>\n",
       "      <td>349.0</td>\n",
       "      <td>15.0</td>\n",
       "      <td>2.0</td>\n",
       "      <td>6.0</td>\n",
       "      <td>0.0</td>\n",
       "      <td>...</td>\n",
       "      <td>0.0</td>\n",
       "      <td>1.0</td>\n",
       "      <td>0.0</td>\n",
       "      <td>0.0</td>\n",
       "      <td>0.0</td>\n",
       "      <td>0.0</td>\n",
       "      <td>1.0</td>\n",
       "      <td>1.0</td>\n",
       "      <td>0.0</td>\n",
       "      <td>0.0</td>\n",
       "    </tr>\n",
       "    <tr>\n",
       "      <th>2</th>\n",
       "      <td>1.0</td>\n",
       "      <td>150419.0</td>\n",
       "      <td>0.0</td>\n",
       "      <td>14.0</td>\n",
       "      <td>204004.0</td>\n",
       "      <td>682.0</td>\n",
       "      <td>0.0</td>\n",
       "      <td>6.0</td>\n",
       "      <td>5.0</td>\n",
       "      <td>0.0</td>\n",
       "      <td>...</td>\n",
       "      <td>0.0</td>\n",
       "      <td>0.0</td>\n",
       "      <td>0.0</td>\n",
       "      <td>0.0</td>\n",
       "      <td>0.0</td>\n",
       "      <td>1.0</td>\n",
       "      <td>0.0</td>\n",
       "      <td>0.0</td>\n",
       "      <td>0.0</td>\n",
       "      <td>1.0</td>\n",
       "    </tr>\n",
       "    <tr>\n",
       "      <th>3</th>\n",
       "      <td>0.0</td>\n",
       "      <td>159567.0</td>\n",
       "      <td>0.0</td>\n",
       "      <td>58.0</td>\n",
       "      <td>281969.0</td>\n",
       "      <td>634.0</td>\n",
       "      <td>1.0</td>\n",
       "      <td>1.0</td>\n",
       "      <td>6.0</td>\n",
       "      <td>0.0</td>\n",
       "      <td>...</td>\n",
       "      <td>1.0</td>\n",
       "      <td>0.0</td>\n",
       "      <td>0.0</td>\n",
       "      <td>0.0</td>\n",
       "      <td>0.0</td>\n",
       "      <td>1.0</td>\n",
       "      <td>0.0</td>\n",
       "      <td>0.0</td>\n",
       "      <td>0.0</td>\n",
       "      <td>1.0</td>\n",
       "    </tr>\n",
       "    <tr>\n",
       "      <th>4</th>\n",
       "      <td>1.0</td>\n",
       "      <td>23392.0</td>\n",
       "      <td>0.0</td>\n",
       "      <td>0.0</td>\n",
       "      <td>216707.0</td>\n",
       "      <td>233.0</td>\n",
       "      <td>0.0</td>\n",
       "      <td>15.0</td>\n",
       "      <td>6.0</td>\n",
       "      <td>0.0</td>\n",
       "      <td>...</td>\n",
       "      <td>0.0</td>\n",
       "      <td>1.0</td>\n",
       "      <td>0.0</td>\n",
       "      <td>0.0</td>\n",
       "      <td>0.0</td>\n",
       "      <td>0.0</td>\n",
       "      <td>1.0</td>\n",
       "      <td>0.0</td>\n",
       "      <td>0.0</td>\n",
       "      <td>0.0</td>\n",
       "    </tr>\n",
       "  </tbody>\n",
       "</table>\n",
       "<p>5 rows × 24 columns</p>\n",
       "</div>"
      ],
      "text/plain": [
       "   COLLEGE    INCOME  OVERAGE  LEFTOVER     HOUSE  HANDSET_PRICE  \\\n",
       "0      1.0   47711.0    183.0      17.0  730589.0          192.0   \n",
       "1      0.0   74132.0    191.0      43.0  535092.0          349.0   \n",
       "2      1.0  150419.0      0.0      14.0  204004.0          682.0   \n",
       "3      0.0  159567.0      0.0      58.0  281969.0          634.0   \n",
       "4      1.0   23392.0      0.0       0.0  216707.0          233.0   \n",
       "\n",
       "   OVER_15MINS_CALLS_PER_MONTH  AVERAGE_CALL_DURATION  SCORE  \\\n",
       "0                         19.0                    5.0    5.0   \n",
       "1                         15.0                    2.0    6.0   \n",
       "2                          0.0                    6.0    5.0   \n",
       "3                          1.0                    1.0    6.0   \n",
       "4                          0.0                   15.0    6.0   \n",
       "\n",
       "   REPORTED_SATISFACTION_sat  ...  CONSIDERING_CHANGE_OF_PLAN_never_thought  \\\n",
       "0                        0.0  ...                                       0.0   \n",
       "1                        0.0  ...                                       0.0   \n",
       "2                        0.0  ...                                       0.0   \n",
       "3                        0.0  ...                                       1.0   \n",
       "4                        0.0  ...                                       0.0   \n",
       "\n",
       "   CONSIDERING_CHANGE_OF_PLAN_no  CONSIDERING_CHANGE_OF_PLAN_perhaps  \\\n",
       "0                            0.0                                 0.0   \n",
       "1                            1.0                                 0.0   \n",
       "2                            0.0                                 0.0   \n",
       "3                            0.0                                 0.0   \n",
       "4                            1.0                                 0.0   \n",
       "\n",
       "   REPORTED_USAGE_LEVEL_high  REPORTED_USAGE_LEVEL_little  \\\n",
       "0                        0.0                          1.0   \n",
       "1                        0.0                          0.0   \n",
       "2                        0.0                          0.0   \n",
       "3                        0.0                          0.0   \n",
       "4                        0.0                          0.0   \n",
       "\n",
       "   REPORTED_USAGE_LEVEL_very_high  REPORTED_USAGE_LEVEL_very_little  \\\n",
       "0                             0.0                               0.0   \n",
       "1                             0.0                               1.0   \n",
       "2                             1.0                               0.0   \n",
       "3                             1.0                               0.0   \n",
       "4                             0.0                               1.0   \n",
       "\n",
       "   IncomeGroup_50001_80000  IncomeGroup_80001_120000  \\\n",
       "0                      0.0                       0.0   \n",
       "1                      1.0                       0.0   \n",
       "2                      0.0                       0.0   \n",
       "3                      0.0                       0.0   \n",
       "4                      0.0                       0.0   \n",
       "\n",
       "   IncomeGroup_120001_160000  \n",
       "0                        0.0  \n",
       "1                        0.0  \n",
       "2                        1.0  \n",
       "3                        1.0  \n",
       "4                        0.0  \n",
       "\n",
       "[5 rows x 24 columns]"
      ]
     },
     "execution_count": 354,
     "metadata": {},
     "output_type": "execute_result"
    }
   ],
   "source": [
    "x.head()"
   ]
  },
  {
   "cell_type": "markdown",
   "metadata": {
    "id": "aODppuvooQzl"
   },
   "source": [
    "### 2.5 데이터 분할\n",
    "\n",
    "* test 3000건(test_size = 3000), random_state = 2022\n",
    "* val 3000건(test_size = 3000), random_state = 2022\n",
    "* train 나머지."
   ]
  },
  {
   "cell_type": "code",
   "execution_count": 355,
   "metadata": {
    "id": "SmHfm-Z8OoC3"
   },
   "outputs": [],
   "source": [
    "# x, y data를 train set과 test set으로 분할한다\n",
    "x_train, x_test, y_train, y_test = train_test_split(x, y, test_size=3000, random_state = 2022)"
   ]
  },
  {
   "cell_type": "code",
   "execution_count": 356,
   "metadata": {
    "id": "f-nWCy8QOn_P"
   },
   "outputs": [],
   "source": [
    "# x_train, y_train data를 train set과 validation set으로 분할한다\n",
    "x_train, x_val, y_train, y_val = train_test_split(x_train, y_train, test_size=3000, random_state = 2022)"
   ]
  },
  {
   "cell_type": "code",
   "execution_count": 357,
   "metadata": {},
   "outputs": [
    {
     "data": {
      "text/plain": [
       "COLLEGE                                     0\n",
       "INCOME                                      0\n",
       "OVERAGE                                     0\n",
       "LEFTOVER                                    0\n",
       "HOUSE                                       0\n",
       "HANDSET_PRICE                               0\n",
       "OVER_15MINS_CALLS_PER_MONTH                 0\n",
       "AVERAGE_CALL_DURATION                       0\n",
       "SCORE                                       0\n",
       "REPORTED_SATISFACTION_sat                   0\n",
       "REPORTED_SATISFACTION_unsat                 0\n",
       "REPORTED_SATISFACTION_very_sat              0\n",
       "REPORTED_SATISFACTION_very_unsat            0\n",
       "CONSIDERING_CHANGE_OF_PLAN_considering      0\n",
       "CONSIDERING_CHANGE_OF_PLAN_never_thought    0\n",
       "CONSIDERING_CHANGE_OF_PLAN_no               0\n",
       "CONSIDERING_CHANGE_OF_PLAN_perhaps          0\n",
       "REPORTED_USAGE_LEVEL_high                   0\n",
       "REPORTED_USAGE_LEVEL_little                 0\n",
       "REPORTED_USAGE_LEVEL_very_high              0\n",
       "REPORTED_USAGE_LEVEL_very_little            0\n",
       "IncomeGroup_50001_80000                     0\n",
       "IncomeGroup_80001_120000                    0\n",
       "IncomeGroup_120001_160000                   0\n",
       "dtype: int64"
      ]
     },
     "execution_count": 357,
     "metadata": {},
     "output_type": "execute_result"
    }
   ],
   "source": [
    "x_train.isna().sum()"
   ]
  },
  {
   "cell_type": "markdown",
   "metadata": {
    "id": "2Lwk03PSZTJP"
   },
   "source": [
    "### 2.6 (옵션)스케일링 \n",
    "* 스케일링을 필요로 하는 알고리즘이 있습니다. \n",
    "* 필요하다고 판단될때 수행합니다."
   ]
  },
  {
   "cell_type": "code",
   "execution_count": 358,
   "metadata": {
    "id": "oAVSU7XucCvn"
   },
   "outputs": [],
   "source": [
    "from sklearn.preprocessing import MinMaxScaler\n",
    "col_x = list(x)\n",
    "scaler = MinMaxScaler()\n",
    "\n",
    "x_train_s = scaler.fit_transform(x_train)\n",
    "x_val_s = scaler.transform(x_val)\n",
    "x_test_s = scaler.transform(x_test)"
   ]
  },
  {
   "cell_type": "markdown",
   "metadata": {
    "id": "ZghJJ7yLEpDA"
   },
   "source": [
    "## 3.모델링1 : 머신러닝"
   ]
  },
  {
   "cell_type": "markdown",
   "metadata": {
    "id": "NFDAfi7-5Xhu"
   },
   "source": [
    "### 3.1 모델링을 위한 함수 불러오기\n",
    "\n",
    "* **꼭 필요한 라이브러리 혹은 함수**만 불러옵니다. 무조건 다 불러오는 것은 지양해주세요."
   ]
  },
  {
   "cell_type": "code",
   "execution_count": 359,
   "metadata": {
    "id": "zlHHnr2-5cwD"
   },
   "outputs": [],
   "source": [
    "from sklearn.metrics import *\n",
    "\n",
    "from sklearn.tree import DecisionTreeClassifier\n",
    "from sklearn.svm import SVC\n",
    "from xgboost import XGBClassifier\n",
    "from sklearn.ensemble import RandomForestClassifier\n",
    "\n",
    "from sklearn.model_selection import GridSearchCV, RandomizedSearchCV\n",
    "\n",
    "import warnings\n",
    "warnings.filterwarnings('ignore')"
   ]
  },
  {
   "cell_type": "markdown",
   "metadata": {
    "id": "6K1mZKlXByLy"
   },
   "source": [
    "### 3.2 모델링\n",
    "* 최소 3개 이상의 알고리즘을 선정합니다.(알고리즘에는 최소 1개 이상의 앙상블 기법을 포함)\n",
    "    * 아래 주어진 목록 이외의 알고리즘을 선정해도 좋습니다.\n",
    "* 각 알고리즘별 튜닝을 수행하여 최적의 모델을 생성합니다.\n",
    "    * 튜닝 방식은 GridSearchCV, RandomizedSearchCV 혹은 for loop 로 직접\n",
    "    * 단, 선형회귀, 로지스틱 회귀의는 입력 변수(feature)를 조절하여 튜닝을 합니다.\n",
    "    * 튜닝 과정에 대해서 주석으로 기술합니다.\n",
    "* 모델링, 튜닝만 수행하는데 그치지 말고, 모델의 내용을 파악하기 위한 분석을 시도합니다. 코드 결과에 대한 분석 의견을 주석으로 기술합니다.\n",
    "    * 예 : 모델 시각화 및 내용 파악, 튜닝 결과 분석 및 시각화"
   ]
  },
  {
   "cell_type": "markdown",
   "metadata": {
    "id": "VBBpa7BjL6Lj"
   },
   "source": [
    "#### (1) Decision Tree"
   ]
  },
  {
   "cell_type": "code",
   "execution_count": 360,
   "metadata": {
    "id": "qvry7Ns-OtqH"
   },
   "outputs": [
    {
     "data": {
      "text/plain": [
       "GridSearchCV(cv=10, estimator=DecisionTreeClassifier(),\n",
       "             param_grid={'max_depth': range(1, 10)})"
      ]
     },
     "execution_count": 360,
     "metadata": {},
     "output_type": "execute_result"
    }
   ],
   "source": [
    "model = DecisionTreeClassifier()\n",
    "\n",
    "params = { 'max_depth':range(1,10)}\n",
    "model_dt = GridSearchCV(model, param_grid = params, cv = 10)\n",
    "model_dt.fit(x_train, y_train)"
   ]
  },
  {
   "cell_type": "code",
   "execution_count": 361,
   "metadata": {
    "id": "W3kInz1eOuL_"
   },
   "outputs": [],
   "source": [
    "y_pred = model_dt.predict(x_val)"
   ]
  },
  {
   "cell_type": "code",
   "execution_count": 362,
   "metadata": {
    "id": "ix3jWeElOtmX"
   },
   "outputs": [],
   "source": [
    "result={}\n",
    "result['Decision Tree'] = precision_score(y_val, y_pred)"
   ]
  },
  {
   "cell_type": "code",
   "execution_count": 363,
   "metadata": {
    "id": "k2ZVWhqqOti_"
   },
   "outputs": [
    {
     "name": "stdout",
     "output_type": "stream",
     "text": [
      "[[ 972  548]\n",
      " [ 304 1176]]\n",
      "              precision    recall  f1-score   support\n",
      "\n",
      "           0       0.76      0.64      0.70      1520\n",
      "           1       0.68      0.79      0.73      1480\n",
      "\n",
      "    accuracy                           0.72      3000\n",
      "   macro avg       0.72      0.72      0.71      3000\n",
      "weighted avg       0.72      0.72      0.71      3000\n",
      "\n"
     ]
    }
   ],
   "source": [
    "print(confusion_matrix(y_val, y_pred))\n",
    "print(classification_report(y_val, y_pred))"
   ]
  },
  {
   "cell_type": "markdown",
   "metadata": {
    "id": "90r0cCjwOvYY"
   },
   "source": [
    "#### (2) Random Forest"
   ]
  },
  {
   "cell_type": "code",
   "execution_count": 364,
   "metadata": {
    "id": "KEpaeDGXOvYZ"
   },
   "outputs": [
    {
     "data": {
      "text/plain": [
       "RandomForestClassifier()"
      ]
     },
     "execution_count": 364,
     "metadata": {},
     "output_type": "execute_result"
    }
   ],
   "source": [
    "model_rf = RandomForestClassifier()\n",
    "model_rf.fit(x_train, y_train)"
   ]
  },
  {
   "cell_type": "code",
   "execution_count": 365,
   "metadata": {},
   "outputs": [],
   "source": [
    "y_pred = model_rf.predict(x_val)"
   ]
  },
  {
   "cell_type": "code",
   "execution_count": 366,
   "metadata": {},
   "outputs": [],
   "source": [
    "result['Random Forest'] = precision_score(y_val, y_pred)"
   ]
  },
  {
   "cell_type": "code",
   "execution_count": 367,
   "metadata": {},
   "outputs": [
    {
     "name": "stdout",
     "output_type": "stream",
     "text": [
      "[[1055  465]\n",
      " [ 424 1056]]\n",
      "              precision    recall  f1-score   support\n",
      "\n",
      "           0       0.71      0.69      0.70      1520\n",
      "           1       0.69      0.71      0.70      1480\n",
      "\n",
      "    accuracy                           0.70      3000\n",
      "   macro avg       0.70      0.70      0.70      3000\n",
      "weighted avg       0.70      0.70      0.70      3000\n",
      "\n"
     ]
    }
   ],
   "source": [
    "print(confusion_matrix(y_val, y_pred))\n",
    "print(classification_report(y_val, y_pred))"
   ]
  },
  {
   "cell_type": "markdown",
   "metadata": {
    "id": "79nC_1brOw_d"
   },
   "source": [
    "#### (3) XGBoost"
   ]
  },
  {
   "cell_type": "code",
   "execution_count": 368,
   "metadata": {
    "id": "OWrO87LaOw_d"
   },
   "outputs": [],
   "source": [
    "model_xgb = XGBClassifier()"
   ]
  },
  {
   "cell_type": "code",
   "execution_count": 369,
   "metadata": {},
   "outputs": [
    {
     "name": "stdout",
     "output_type": "stream",
     "text": [
      "[12:15:58] WARNING: C:/Users/Administrator/workspace/xgboost-win64_release_1.5.1/src/learner.cc:1115: Starting in XGBoost 1.3.0, the default evaluation metric used with the objective 'binary:logistic' was changed from 'error' to 'logloss'. Explicitly set eval_metric if you'd like to restore the old behavior.\n"
     ]
    },
    {
     "data": {
      "text/plain": [
       "XGBClassifier(base_score=0.5, booster='gbtree', colsample_bylevel=1,\n",
       "              colsample_bynode=1, colsample_bytree=1, enable_categorical=False,\n",
       "              gamma=0, gpu_id=-1, importance_type=None,\n",
       "              interaction_constraints='', learning_rate=0.300000012,\n",
       "              max_delta_step=0, max_depth=6, min_child_weight=1, missing=nan,\n",
       "              monotone_constraints='()', n_estimators=100, n_jobs=8,\n",
       "              num_parallel_tree=1, predictor='auto', random_state=0,\n",
       "              reg_alpha=0, reg_lambda=1, scale_pos_weight=1, subsample=1,\n",
       "              tree_method='exact', validate_parameters=1, verbosity=None)"
      ]
     },
     "execution_count": 369,
     "metadata": {},
     "output_type": "execute_result"
    }
   ],
   "source": [
    "model_xgb.fit(x_train, y_train)"
   ]
  },
  {
   "cell_type": "code",
   "execution_count": 370,
   "metadata": {
    "id": "X2w9xuTxOw_e"
   },
   "outputs": [],
   "source": [
    "y_pred = model_xgb.predict(x_val)"
   ]
  },
  {
   "cell_type": "code",
   "execution_count": 371,
   "metadata": {
    "id": "Gu9S_e8HOw_e"
   },
   "outputs": [],
   "source": [
    "result['XGBoost'] = precision_score(y_val, y_pred) "
   ]
  },
  {
   "cell_type": "code",
   "execution_count": 372,
   "metadata": {
    "id": "A831KcfEOw_e"
   },
   "outputs": [
    {
     "name": "stdout",
     "output_type": "stream",
     "text": [
      "[[1022  498]\n",
      " [ 406 1074]]\n",
      "              precision    recall  f1-score   support\n",
      "\n",
      "           0       0.72      0.67      0.69      1520\n",
      "           1       0.68      0.73      0.70      1480\n",
      "\n",
      "    accuracy                           0.70      3000\n",
      "   macro avg       0.70      0.70      0.70      3000\n",
      "weighted avg       0.70      0.70      0.70      3000\n",
      "\n"
     ]
    }
   ],
   "source": [
    "print(confusion_matrix(y_val, y_pred))\n",
    "print(classification_report(y_val, y_pred))"
   ]
  },
  {
   "cell_type": "markdown",
   "metadata": {
    "id": "yIm4n8jAOytN"
   },
   "source": [
    "#### (4) 추가"
   ]
  },
  {
   "cell_type": "code",
   "execution_count": null,
   "metadata": {
    "id": "I08wZzKSOytN"
   },
   "outputs": [],
   "source": []
  },
  {
   "cell_type": "code",
   "execution_count": null,
   "metadata": {
    "id": "uwNjvnz6OytO"
   },
   "outputs": [],
   "source": []
  },
  {
   "cell_type": "code",
   "execution_count": null,
   "metadata": {
    "id": "5xoWtpIhOytO"
   },
   "outputs": [],
   "source": []
  },
  {
   "cell_type": "code",
   "execution_count": null,
   "metadata": {
    "id": "GS0fsPLsOytO"
   },
   "outputs": [],
   "source": []
  },
  {
   "cell_type": "markdown",
   "metadata": {
    "id": "95r7i5gXL6Lx"
   },
   "source": [
    "## 4.모델링2 : DL"
   ]
  },
  {
   "cell_type": "markdown",
   "metadata": {
    "id": "b9kRyQ6K6CIW"
   },
   "source": [
    "### 4.1 모델링을 위한 함수 불러오기"
   ]
  },
  {
   "cell_type": "code",
   "execution_count": 373,
   "metadata": {
    "id": "_BDNB7hM9_hz"
   },
   "outputs": [],
   "source": [
    "import tensorflow as tf\n",
    "from tensorflow import keras"
   ]
  },
  {
   "cell_type": "markdown",
   "metadata": {
    "id": "lL9BeX00MLgt"
   },
   "source": [
    "### 4.2 모델링\n",
    "\n",
    "* 딥러닝 모델을 3개 이상 생성하시오\n",
    "    * 다양한 구조의 모델 3개 이상을 설계하시오. (히든레이어, 노드 수 조절)\n",
    "    * 각 모델은 구조가 달라야 합니다.\n",
    "    * 구조를 그렇게 구성한 이유를 주석으로 기술해 봅시다.\n",
    "* 각 모델마다 \n",
    "    * 구조를 summary 혹은 plot model로 확인\n",
    "    * 학습 후 history plot 그리고 적절하게 학습이 되었는지 확인    "
   ]
  },
  {
   "cell_type": "markdown",
   "metadata": {
    "id": "yAaMF07mHz_q"
   },
   "source": [
    "#### (1) 모델1"
   ]
  },
  {
   "cell_type": "code",
   "execution_count": 374,
   "metadata": {
    "id": "aA1Pm1oXMLgv"
   },
   "outputs": [
    {
     "name": "stdout",
     "output_type": "stream",
     "text": [
      "Model: \"sequential\"\n",
      "_________________________________________________________________\n",
      " Layer (type)                Output Shape              Param #   \n",
      "=================================================================\n",
      " dense (Dense)               (None, 8)                 200       \n",
      "                                                                 \n",
      " dense_1 (Dense)             (None, 1)                 9         \n",
      "                                                                 \n",
      "=================================================================\n",
      "Total params: 209\n",
      "Trainable params: 209\n",
      "Non-trainable params: 0\n",
      "_________________________________________________________________\n"
     ]
    }
   ],
   "source": [
    "keras.backend.clear_session()\n",
    "\n",
    "model1 = keras.models.Sequential()\n",
    "model1.add(keras.layers.Dense(8,input_shape=(x_train.shape[1],), activation = 'relu'))\n",
    "model1.add(keras.layers.Dense(1, activation= 'sigmoid'))\n",
    "model1.compile(loss = 'binary_crossentropy', metrics=['accuracy'], optimizer = 'adam') \n",
    "model1.summary()"
   ]
  },
  {
   "cell_type": "code",
   "execution_count": 375,
   "metadata": {},
   "outputs": [
    {
     "name": "stdout",
     "output_type": "stream",
     "text": [
      "Epoch 1/100\n",
      "375/375 [==============================] - 1s 1ms/step - loss: 2262.6311 - accuracy: 0.5502\n",
      "Epoch 2/100\n",
      "375/375 [==============================] - 1s 1ms/step - loss: 75.8973 - accuracy: 0.5350\n",
      "Epoch 3/100\n",
      "375/375 [==============================] - 1s 1ms/step - loss: 59.3135 - accuracy: 0.5487\n",
      "Epoch 4/100\n",
      "375/375 [==============================] - 0s 1ms/step - loss: 70.9915 - accuracy: 0.5446\n",
      "Epoch 5/100\n",
      "375/375 [==============================] - 0s 1ms/step - loss: 62.6400 - accuracy: 0.5494\n",
      "Epoch 6/100\n",
      "375/375 [==============================] - 0s 1ms/step - loss: 49.2015 - accuracy: 0.5623\n",
      "Epoch 7/100\n",
      "375/375 [==============================] - 1s 1ms/step - loss: 64.4824 - accuracy: 0.5471\n",
      "Epoch 8/100\n",
      "375/375 [==============================] - 1s 2ms/step - loss: 65.6402 - accuracy: 0.5482\n",
      "Epoch 9/100\n",
      "375/375 [==============================] - 1s 1ms/step - loss: 45.6332 - accuracy: 0.5628\n",
      "Epoch 10/100\n",
      "375/375 [==============================] - 1s 1ms/step - loss: 64.9749 - accuracy: 0.5460\n",
      "Epoch 11/100\n",
      "375/375 [==============================] - 0s 1ms/step - loss: 56.9835 - accuracy: 0.5526\n",
      "Epoch 12/100\n",
      "375/375 [==============================] - 0s 1ms/step - loss: 47.9000 - accuracy: 0.5542\n",
      "Epoch 13/100\n",
      "375/375 [==============================] - 0s 1ms/step - loss: 61.5029 - accuracy: 0.5518\n",
      "Epoch 14/100\n",
      "375/375 [==============================] - 0s 1ms/step - loss: 53.2619 - accuracy: 0.5583\n",
      "Epoch 15/100\n",
      "375/375 [==============================] - 0s 1ms/step - loss: 52.5485 - accuracy: 0.5620\n",
      "Epoch 16/100\n",
      "375/375 [==============================] - 0s 1ms/step - loss: 68.6426 - accuracy: 0.5472\n",
      "Epoch 17/100\n",
      "375/375 [==============================] - 0s 1ms/step - loss: 65.2896 - accuracy: 0.5509\n",
      "Epoch 18/100\n",
      "375/375 [==============================] - 0s 1ms/step - loss: 47.7831 - accuracy: 0.5598\n",
      "Epoch 19/100\n",
      "375/375 [==============================] - 0s 1ms/step - loss: 58.3465 - accuracy: 0.5561\n",
      "Epoch 20/100\n",
      "375/375 [==============================] - 1s 1ms/step - loss: 47.6533 - accuracy: 0.5547\n",
      "Epoch 21/100\n",
      "375/375 [==============================] - 0s 1ms/step - loss: 52.7649 - accuracy: 0.5603\n",
      "Epoch 22/100\n",
      "375/375 [==============================] - 0s 1ms/step - loss: 50.7913 - accuracy: 0.5525\n",
      "Epoch 23/100\n",
      "375/375 [==============================] - 1s 1ms/step - loss: 67.6945 - accuracy: 0.5452\n",
      "Epoch 24/100\n",
      "375/375 [==============================] - 0s 1ms/step - loss: 50.6757 - accuracy: 0.5643\n",
      "Epoch 25/100\n",
      "375/375 [==============================] - 0s 1ms/step - loss: 57.8118 - accuracy: 0.5571\n",
      "Epoch 26/100\n",
      "375/375 [==============================] - 0s 1ms/step - loss: 78.3102 - accuracy: 0.5439\n",
      "Epoch 27/100\n",
      "375/375 [==============================] - 0s 1ms/step - loss: 58.1548 - accuracy: 0.5534\n",
      "Epoch 28/100\n",
      "375/375 [==============================] - 0s 1ms/step - loss: 65.2021 - accuracy: 0.5462\n",
      "Epoch 29/100\n",
      "375/375 [==============================] - 0s 1ms/step - loss: 48.9298 - accuracy: 0.5635\n",
      "Epoch 30/100\n",
      "375/375 [==============================] - 1s 1ms/step - loss: 50.4002 - accuracy: 0.5548\n",
      "Epoch 31/100\n",
      "375/375 [==============================] - 1s 1ms/step - loss: 44.1392 - accuracy: 0.5624\n",
      "Epoch 32/100\n",
      "375/375 [==============================] - 1s 1ms/step - loss: 51.8224 - accuracy: 0.5624\n",
      "Epoch 33/100\n",
      "375/375 [==============================] - 1s 1ms/step - loss: 58.0581 - accuracy: 0.5583\n",
      "Epoch 34/100\n",
      "375/375 [==============================] - 1s 1ms/step - loss: 47.3538 - accuracy: 0.5561\n",
      "Epoch 35/100\n",
      "375/375 [==============================] - 0s 1ms/step - loss: 55.5281 - accuracy: 0.5535\n",
      "Epoch 36/100\n",
      "375/375 [==============================] - 0s 1ms/step - loss: 66.4968 - accuracy: 0.5481\n",
      "Epoch 37/100\n",
      "375/375 [==============================] - 0s 1ms/step - loss: 51.5479 - accuracy: 0.5574\n",
      "Epoch 38/100\n",
      "375/375 [==============================] - 0s 1ms/step - loss: 56.3660 - accuracy: 0.5477\n",
      "Epoch 39/100\n",
      "375/375 [==============================] - 1s 2ms/step - loss: 61.9212 - accuracy: 0.5522\n",
      "Epoch 40/100\n",
      "375/375 [==============================] - 1s 2ms/step - loss: 62.1553 - accuracy: 0.5539\n",
      "Epoch 41/100\n",
      "375/375 [==============================] - 1s 1ms/step - loss: 64.3408 - accuracy: 0.5497\n",
      "Epoch 42/100\n",
      "375/375 [==============================] - 0s 1ms/step - loss: 51.5580 - accuracy: 0.5566\n",
      "Epoch 43/100\n",
      "375/375 [==============================] - 1s 1ms/step - loss: 50.3296 - accuracy: 0.5595\n",
      "Epoch 44/100\n",
      "375/375 [==============================] - 1s 1ms/step - loss: 47.2532 - accuracy: 0.5523\n",
      "Epoch 45/100\n",
      "375/375 [==============================] - 0s 1ms/step - loss: 57.3249 - accuracy: 0.5487\n",
      "Epoch 46/100\n",
      "375/375 [==============================] - 1s 1ms/step - loss: 50.9066 - accuracy: 0.5576\n",
      "Epoch 47/100\n",
      "375/375 [==============================] - 1s 1ms/step - loss: 55.8907 - accuracy: 0.5443\n",
      "Epoch 48/100\n",
      "375/375 [==============================] - 1s 1ms/step - loss: 63.8933 - accuracy: 0.5506\n",
      "Epoch 49/100\n",
      "375/375 [==============================] - 1s 1ms/step - loss: 57.1333 - accuracy: 0.5548\n",
      "Epoch 50/100\n",
      "375/375 [==============================] - 1s 1ms/step - loss: 44.7875 - accuracy: 0.5606\n",
      "Epoch 51/100\n",
      "375/375 [==============================] - 1s 1ms/step - loss: 70.4802 - accuracy: 0.5428\n",
      "Epoch 52/100\n",
      "375/375 [==============================] - 1s 1ms/step - loss: 60.7009 - accuracy: 0.5575\n",
      "Epoch 53/100\n",
      "375/375 [==============================] - 0s 1ms/step - loss: 54.3253 - accuracy: 0.5564\n",
      "Epoch 54/100\n",
      "375/375 [==============================] - 1s 1ms/step - loss: 62.7176 - accuracy: 0.5485\n",
      "Epoch 55/100\n",
      "375/375 [==============================] - 0s 1ms/step - loss: 54.4509 - accuracy: 0.5560\n",
      "Epoch 56/100\n",
      "375/375 [==============================] - 1s 1ms/step - loss: 62.2123 - accuracy: 0.5531\n",
      "Epoch 57/100\n",
      "375/375 [==============================] - 1s 2ms/step - loss: 49.2162 - accuracy: 0.5614\n",
      "Epoch 58/100\n",
      "375/375 [==============================] - 1s 1ms/step - loss: 53.8370 - accuracy: 0.5582\n",
      "Epoch 59/100\n",
      "375/375 [==============================] - 0s 1ms/step - loss: 61.2819 - accuracy: 0.5513\n",
      "Epoch 60/100\n",
      "375/375 [==============================] - 1s 1ms/step - loss: 55.5573 - accuracy: 0.5611\n",
      "Epoch 61/100\n",
      "375/375 [==============================] - 0s 1ms/step - loss: 65.7240 - accuracy: 0.5452\n",
      "Epoch 62/100\n",
      "375/375 [==============================] - 1s 1ms/step - loss: 45.0001 - accuracy: 0.5683\n",
      "Epoch 63/100\n",
      "375/375 [==============================] - 1s 1ms/step - loss: 44.4756 - accuracy: 0.5599\n",
      "Epoch 64/100\n",
      "375/375 [==============================] - 1s 1ms/step - loss: 55.6807 - accuracy: 0.5584\n",
      "Epoch 65/100\n",
      "375/375 [==============================] - 1s 1ms/step - loss: 58.8850 - accuracy: 0.5544\n",
      "Epoch 66/100\n",
      "375/375 [==============================] - 0s 1ms/step - loss: 59.3964 - accuracy: 0.5505\n",
      "Epoch 67/100\n",
      "375/375 [==============================] - 1s 1ms/step - loss: 53.3990 - accuracy: 0.5519\n",
      "Epoch 68/100\n",
      "375/375 [==============================] - 0s 1ms/step - loss: 50.6693 - accuracy: 0.5589\n",
      "Epoch 69/100\n",
      "375/375 [==============================] - 1s 1ms/step - loss: 58.0162 - accuracy: 0.5569\n",
      "Epoch 70/100\n",
      "375/375 [==============================] - 1s 2ms/step - loss: 54.8925 - accuracy: 0.5578\n",
      "Epoch 71/100\n",
      "375/375 [==============================] - 1s 2ms/step - loss: 50.7729 - accuracy: 0.5585\n",
      "Epoch 72/100\n",
      "375/375 [==============================] - 1s 1ms/step - loss: 60.5848 - accuracy: 0.5503\n",
      "Epoch 73/100\n",
      "375/375 [==============================] - 0s 1ms/step - loss: 54.5032 - accuracy: 0.5567\n",
      "Epoch 74/100\n",
      "375/375 [==============================] - 0s 1ms/step - loss: 55.3914 - accuracy: 0.5606\n",
      "Epoch 75/100\n",
      "375/375 [==============================] - 1s 1ms/step - loss: 56.5930 - accuracy: 0.5567\n",
      "Epoch 76/100\n",
      "375/375 [==============================] - 1s 1ms/step - loss: 47.4211 - accuracy: 0.5590\n",
      "Epoch 77/100\n",
      "375/375 [==============================] - 0s 1ms/step - loss: 69.6646 - accuracy: 0.5442\n",
      "Epoch 78/100\n",
      "375/375 [==============================] - 1s 1ms/step - loss: 45.3142 - accuracy: 0.5629\n",
      "Epoch 79/100\n",
      "375/375 [==============================] - 0s 1ms/step - loss: 50.5321 - accuracy: 0.5532\n",
      "Epoch 80/100\n",
      "375/375 [==============================] - 1s 2ms/step - loss: 56.2263 - accuracy: 0.5482\n",
      "Epoch 81/100\n",
      "375/375 [==============================] - 1s 1ms/step - loss: 58.9262 - accuracy: 0.5575\n",
      "Epoch 82/100\n",
      "375/375 [==============================] - 0s 1ms/step - loss: 52.0211 - accuracy: 0.5517\n",
      "Epoch 83/100\n",
      "375/375 [==============================] - 1s 1ms/step - loss: 49.9453 - accuracy: 0.5602\n",
      "Epoch 84/100\n",
      "375/375 [==============================] - 1s 1ms/step - loss: 48.8763 - accuracy: 0.5552\n",
      "Epoch 85/100\n",
      "375/375 [==============================] - 1s 1ms/step - loss: 66.8897 - accuracy: 0.5394\n",
      "Epoch 86/100\n",
      "375/375 [==============================] - 1s 1ms/step - loss: 47.6227 - accuracy: 0.5629\n",
      "Epoch 87/100\n",
      "375/375 [==============================] - 1s 1ms/step - loss: 55.7346 - accuracy: 0.5475\n",
      "Epoch 88/100\n",
      "375/375 [==============================] - 1s 1ms/step - loss: 57.2917 - accuracy: 0.5537\n",
      "Epoch 89/100\n",
      "375/375 [==============================] - 0s 1ms/step - loss: 51.0027 - accuracy: 0.5612\n",
      "Epoch 90/100\n",
      "375/375 [==============================] - 0s 1ms/step - loss: 51.2274 - accuracy: 0.5605\n",
      "Epoch 91/100\n",
      "375/375 [==============================] - 1s 1ms/step - loss: 54.1261 - accuracy: 0.5618\n",
      "Epoch 92/100\n",
      "375/375 [==============================] - 1s 1ms/step - loss: 48.9952 - accuracy: 0.5536\n",
      "Epoch 93/100\n",
      "375/375 [==============================] - 0s 1ms/step - loss: 54.6252 - accuracy: 0.5444\n",
      "Epoch 94/100\n",
      "375/375 [==============================] - 1s 1ms/step - loss: 55.6990 - accuracy: 0.5581\n",
      "Epoch 95/100\n",
      "375/375 [==============================] - 0s 1ms/step - loss: 58.8738 - accuracy: 0.5498\n",
      "Epoch 96/100\n",
      "375/375 [==============================] - 0s 1ms/step - loss: 58.2517 - accuracy: 0.5516\n",
      "Epoch 97/100\n",
      "375/375 [==============================] - 1s 1ms/step - loss: 58.6891 - accuracy: 0.5608\n",
      "Epoch 98/100\n",
      "375/375 [==============================] - 0s 1ms/step - loss: 45.0956 - accuracy: 0.5636\n",
      "Epoch 99/100\n",
      "375/375 [==============================] - 0s 1ms/step - loss: 43.4901 - accuracy: 0.5589\n",
      "Epoch 100/100\n",
      "375/375 [==============================] - 1s 1ms/step - loss: 50.5539 - accuracy: 0.5583\n"
     ]
    }
   ],
   "source": [
    "model1.fit(x_train, y_train, epochs = 100)\n",
    "dl1_y_pred = model1.predict(x_val)"
   ]
  },
  {
   "cell_type": "code",
   "execution_count": 376,
   "metadata": {},
   "outputs": [
    {
     "name": "stdout",
     "output_type": "stream",
     "text": [
      "              precision    recall  f1-score   support\n",
      "\n",
      "           0       0.61      0.69      0.65      1520\n",
      "           1       0.64      0.55      0.59      1480\n",
      "\n",
      "    accuracy                           0.62      3000\n",
      "   macro avg       0.63      0.62      0.62      3000\n",
      "weighted avg       0.63      0.62      0.62      3000\n",
      "\n"
     ]
    }
   ],
   "source": [
    "dl1_y_pred = np.where(dl1_y_pred >= .5, 1, 0)\n",
    "print(classification_report(y_val, dl1_y_pred))"
   ]
  },
  {
   "cell_type": "code",
   "execution_count": 377,
   "metadata": {},
   "outputs": [],
   "source": [
    "dl_result ={}\n",
    "dl_result['model1'] = classification_report(y_val, dl1_y_pred)"
   ]
  },
  {
   "cell_type": "markdown",
   "metadata": {
    "id": "yAaMF07mHz_q"
   },
   "source": [
    "#### (2) 모델2"
   ]
  },
  {
   "cell_type": "code",
   "execution_count": 378,
   "metadata": {
    "id": "aA1Pm1oXMLgv"
   },
   "outputs": [
    {
     "name": "stdout",
     "output_type": "stream",
     "text": [
      "Model: \"model\"\n",
      "_________________________________________________________________\n",
      " Layer (type)                Output Shape              Param #   \n",
      "=================================================================\n",
      " input_1 (InputLayer)        [(None, 24)]              0         \n",
      "                                                                 \n",
      " dense_5 (Dense)             (None, 1)                 25        \n",
      "                                                                 \n",
      "=================================================================\n",
      "Total params: 25\n",
      "Trainable params: 25\n",
      "Non-trainable params: 0\n",
      "_________________________________________________________________\n"
     ]
    }
   ],
   "source": [
    "keras.backend.clear_session()\n",
    "\n",
    "il = keras.layers.Input(shape=(x_train.shape[1],))\n",
    "hl = keras.layers.Dense(512, activation = 'relu')(il)\n",
    "hl = keras.layers.Dense(256, activation = 'relu')(hl)\n",
    "hl = keras.layers.Dense(128, activation = 'relu')(hl)\n",
    "hl = keras.layers.Dense(64, activation = 'relu')(hl)\n",
    "hl = keras.layers.Dense(32, activation = 'relu')(hl)\n",
    "ol = keras.layers.Dense(1)(il)\n",
    "\n",
    "model2 = keras.models.Model(il, ol)\n",
    "\n",
    "model2.compile(loss='mae', optimizer='adam')\n",
    "\n",
    "model2.summary()"
   ]
  },
  {
   "cell_type": "code",
   "execution_count": 380,
   "metadata": {},
   "outputs": [
    {
     "name": "stdout",
     "output_type": "stream",
     "text": [
      "Epoch 1/100\n",
      "375/375 [==============================] - 0s 1ms/step - loss: 56.3364\n",
      "Epoch 2/100\n",
      "375/375 [==============================] - 0s 1ms/step - loss: 58.2155\n",
      "Epoch 3/100\n",
      "375/375 [==============================] - 0s 1ms/step - loss: 59.2365\n",
      "Epoch 4/100\n",
      "375/375 [==============================] - 0s 1ms/step - loss: 54.7733\n",
      "Epoch 5/100\n",
      "375/375 [==============================] - 0s 1ms/step - loss: 74.2029\n",
      "Epoch 6/100\n",
      "375/375 [==============================] - 0s 1ms/step - loss: 58.6292\n",
      "Epoch 7/100\n",
      "375/375 [==============================] - 0s 1ms/step - loss: 63.7533\n",
      "Epoch 8/100\n",
      "375/375 [==============================] - 0s 1ms/step - loss: 59.3051\n",
      "Epoch 9/100\n",
      "375/375 [==============================] - 0s 1ms/step - loss: 73.6034\n",
      "Epoch 10/100\n",
      "375/375 [==============================] - 0s 1ms/step - loss: 55.9162\n",
      "Epoch 11/100\n",
      "375/375 [==============================] - 0s 1ms/step - loss: 63.8554\n",
      "Epoch 12/100\n",
      "375/375 [==============================] - 1s 1ms/step - loss: 55.8014\n",
      "Epoch 13/100\n",
      "375/375 [==============================] - 1s 1ms/step - loss: 50.2249\n",
      "Epoch 14/100\n",
      "375/375 [==============================] - 1s 1ms/step - loss: 55.4433\n",
      "Epoch 15/100\n",
      "375/375 [==============================] - 0s 1ms/step - loss: 48.3685\n",
      "Epoch 16/100\n",
      "375/375 [==============================] - 0s 1ms/step - loss: 48.6502\n",
      "Epoch 17/100\n",
      "375/375 [==============================] - 0s 1ms/step - loss: 60.8833\n",
      "Epoch 18/100\n",
      "375/375 [==============================] - 0s 1ms/step - loss: 63.0373\n",
      "Epoch 19/100\n",
      "375/375 [==============================] - 0s 1ms/step - loss: 58.5287\n",
      "Epoch 20/100\n",
      "375/375 [==============================] - 0s 1ms/step - loss: 57.6722\n",
      "Epoch 21/100\n",
      "375/375 [==============================] - 0s 1ms/step - loss: 60.8419\n",
      "Epoch 22/100\n",
      "375/375 [==============================] - 0s 1ms/step - loss: 60.9275\n",
      "Epoch 23/100\n",
      "375/375 [==============================] - 0s 1ms/step - loss: 50.0992\n",
      "Epoch 24/100\n",
      "375/375 [==============================] - 1s 1ms/step - loss: 60.7740\n",
      "Epoch 25/100\n",
      "375/375 [==============================] - 0s 1ms/step - loss: 58.2769\n",
      "Epoch 26/100\n",
      "375/375 [==============================] - 0s 1ms/step - loss: 55.7059\n",
      "Epoch 27/100\n",
      "375/375 [==============================] - 0s 1ms/step - loss: 54.2020\n",
      "Epoch 28/100\n",
      "375/375 [==============================] - 0s 1ms/step - loss: 64.1027\n",
      "Epoch 29/100\n",
      "375/375 [==============================] - 0s 1ms/step - loss: 62.0696\n",
      "Epoch 30/100\n",
      "375/375 [==============================] - 0s 1ms/step - loss: 65.0080\n",
      "Epoch 31/100\n",
      "375/375 [==============================] - 0s 1ms/step - loss: 49.6805\n",
      "Epoch 32/100\n",
      "375/375 [==============================] - 0s 1ms/step - loss: 58.0529\n",
      "Epoch 33/100\n",
      "375/375 [==============================] - 1s 1ms/step - loss: 58.2139\n",
      "Epoch 34/100\n",
      "375/375 [==============================] - 1s 1ms/step - loss: 62.8385\n",
      "Epoch 35/100\n",
      "375/375 [==============================] - 0s 1ms/step - loss: 55.6551\n",
      "Epoch 36/100\n",
      "375/375 [==============================] - 0s 1ms/step - loss: 51.5673\n",
      "Epoch 37/100\n",
      "375/375 [==============================] - 0s 1ms/step - loss: 47.1653\n",
      "Epoch 38/100\n",
      "375/375 [==============================] - 0s 1ms/step - loss: 56.4511\n",
      "Epoch 39/100\n",
      "375/375 [==============================] - 0s 1ms/step - loss: 49.1787\n",
      "Epoch 40/100\n",
      "375/375 [==============================] - 0s 1ms/step - loss: 57.1457\n",
      "Epoch 41/100\n",
      "375/375 [==============================] - 0s 1ms/step - loss: 63.3747\n",
      "Epoch 42/100\n",
      "375/375 [==============================] - 0s 1ms/step - loss: 61.1533\n",
      "Epoch 43/100\n",
      "375/375 [==============================] - 0s 1ms/step - loss: 49.4344\n",
      "Epoch 44/100\n",
      "375/375 [==============================] - 1s 1ms/step - loss: 49.6683\n",
      "Epoch 45/100\n",
      "375/375 [==============================] - 0s 1ms/step - loss: 61.6450\n",
      "Epoch 46/100\n",
      "375/375 [==============================] - 0s 1ms/step - loss: 50.4379\n",
      "Epoch 47/100\n",
      "375/375 [==============================] - 0s 1ms/step - loss: 76.2738\n",
      "Epoch 48/100\n",
      "375/375 [==============================] - 1s 1ms/step - loss: 51.8742\n",
      "Epoch 49/100\n",
      "375/375 [==============================] - 0s 1ms/step - loss: 55.7919\n",
      "Epoch 50/100\n",
      "375/375 [==============================] - 0s 1ms/step - loss: 67.9619\n",
      "Epoch 51/100\n",
      "375/375 [==============================] - 0s 1ms/step - loss: 57.9435\n",
      "Epoch 52/100\n",
      "375/375 [==============================] - 0s 1ms/step - loss: 61.3894\n",
      "Epoch 53/100\n",
      "375/375 [==============================] - 0s 1ms/step - loss: 54.9434\n",
      "Epoch 54/100\n",
      "375/375 [==============================] - 0s 1ms/step - loss: 71.5915\n",
      "Epoch 55/100\n",
      "375/375 [==============================] - 0s 1ms/step - loss: 49.7853\n",
      "Epoch 56/100\n",
      "375/375 [==============================] - 0s 1ms/step - loss: 61.8171\n",
      "Epoch 57/100\n",
      "375/375 [==============================] - 0s 1ms/step - loss: 75.5447\n",
      "Epoch 58/100\n",
      "375/375 [==============================] - 1s 1ms/step - loss: 52.9093\n",
      "Epoch 59/100\n",
      "375/375 [==============================] - 0s 1ms/step - loss: 66.4922\n",
      "Epoch 60/100\n",
      "375/375 [==============================] - 0s 1ms/step - loss: 62.7212\n",
      "Epoch 61/100\n",
      "375/375 [==============================] - 1s 1ms/step - loss: 49.7447\n",
      "Epoch 62/100\n",
      "375/375 [==============================] - 1s 1ms/step - loss: 49.9319\n",
      "Epoch 63/100\n",
      "375/375 [==============================] - 1s 1ms/step - loss: 59.9645\n",
      "Epoch 64/100\n",
      "375/375 [==============================] - 0s 1ms/step - loss: 53.7002\n",
      "Epoch 65/100\n",
      "375/375 [==============================] - 0s 1ms/step - loss: 55.9159\n",
      "Epoch 66/100\n",
      "375/375 [==============================] - 0s 1ms/step - loss: 69.9274\n",
      "Epoch 67/100\n",
      "375/375 [==============================] - 0s 1ms/step - loss: 56.2863\n",
      "Epoch 68/100\n",
      "375/375 [==============================] - 0s 1ms/step - loss: 58.2017\n",
      "Epoch 69/100\n",
      "375/375 [==============================] - 0s 1ms/step - loss: 64.9490\n",
      "Epoch 70/100\n",
      "375/375 [==============================] - 0s 1ms/step - loss: 62.0607\n",
      "Epoch 71/100\n",
      "375/375 [==============================] - 1s 1ms/step - loss: 47.3690\n",
      "Epoch 72/100\n",
      "375/375 [==============================] - 0s 1ms/step - loss: 47.2405\n",
      "Epoch 73/100\n",
      "375/375 [==============================] - 1s 1ms/step - loss: 53.9984\n",
      "Epoch 74/100\n",
      "375/375 [==============================] - 0s 1ms/step - loss: 46.5586\n",
      "Epoch 75/100\n",
      "375/375 [==============================] - 0s 1ms/step - loss: 55.0272\n",
      "Epoch 76/100\n",
      "375/375 [==============================] - 0s 1ms/step - loss: 60.8331\n",
      "Epoch 77/100\n",
      "375/375 [==============================] - 0s 1ms/step - loss: 67.6316\n",
      "Epoch 78/100\n",
      "375/375 [==============================] - 0s 1ms/step - loss: 43.2093\n",
      "Epoch 79/100\n",
      "375/375 [==============================] - 1s 1ms/step - loss: 62.0074\n",
      "Epoch 80/100\n",
      "375/375 [==============================] - 1s 2ms/step - loss: 65.4454\n",
      "Epoch 81/100\n",
      "375/375 [==============================] - 1s 2ms/step - loss: 53.5101\n",
      "Epoch 82/100\n",
      "375/375 [==============================] - 1s 2ms/step - loss: 53.1968\n",
      "Epoch 83/100\n",
      "375/375 [==============================] - 1s 1ms/step - loss: 46.5474\n",
      "Epoch 84/100\n",
      "375/375 [==============================] - 0s 1ms/step - loss: 79.3605\n",
      "Epoch 85/100\n",
      "375/375 [==============================] - 0s 1ms/step - loss: 63.2119\n",
      "Epoch 86/100\n",
      "375/375 [==============================] - 0s 1ms/step - loss: 62.4789\n",
      "Epoch 87/100\n",
      "375/375 [==============================] - 0s 1ms/step - loss: 55.0861\n",
      "Epoch 88/100\n",
      "375/375 [==============================] - 0s 1ms/step - loss: 56.0812\n",
      "Epoch 89/100\n",
      "375/375 [==============================] - 0s 1ms/step - loss: 60.8561\n",
      "Epoch 90/100\n",
      "375/375 [==============================] - 0s 1ms/step - loss: 71.6178\n",
      "Epoch 91/100\n",
      "375/375 [==============================] - 0s 1ms/step - loss: 51.8870\n",
      "Epoch 92/100\n",
      "375/375 [==============================] - 1s 1ms/step - loss: 63.8196\n",
      "Epoch 93/100\n",
      "375/375 [==============================] - 0s 1ms/step - loss: 49.3592\n",
      "Epoch 94/100\n",
      "375/375 [==============================] - 0s 1ms/step - loss: 62.8758\n",
      "Epoch 95/100\n",
      "375/375 [==============================] - 0s 1ms/step - loss: 56.6607\n",
      "Epoch 96/100\n",
      "375/375 [==============================] - 0s 1ms/step - loss: 54.6546\n",
      "Epoch 97/100\n",
      "375/375 [==============================] - 0s 1ms/step - loss: 52.9630\n",
      "Epoch 98/100\n",
      "375/375 [==============================] - 0s 1ms/step - loss: 52.9915\n",
      "Epoch 99/100\n",
      "375/375 [==============================] - 0s 1ms/step - loss: 50.9908\n",
      "Epoch 100/100\n",
      "375/375 [==============================] - 0s 1ms/step - loss: 53.8243\n"
     ]
    }
   ],
   "source": [
    "model2.fit(x_train, y_train, epochs = 100)\n",
    "dl2_y_pred = model2.predict(x_val)"
   ]
  },
  {
   "cell_type": "code",
   "execution_count": 381,
   "metadata": {},
   "outputs": [
    {
     "name": "stdout",
     "output_type": "stream",
     "text": [
      "              precision    recall  f1-score   support\n",
      "\n",
      "           0       0.00      0.00      0.00      1520\n",
      "           1       0.49      1.00      0.66      1480\n",
      "\n",
      "    accuracy                           0.49      3000\n",
      "   macro avg       0.25      0.50      0.33      3000\n",
      "weighted avg       0.24      0.49      0.33      3000\n",
      "\n"
     ]
    }
   ],
   "source": [
    "dl2_y_pred = np.where(dl2_y_pred >= .5, 1, 0)\n",
    "print(classification_report(y_val, dl2_y_pred))"
   ]
  },
  {
   "cell_type": "code",
   "execution_count": 382,
   "metadata": {},
   "outputs": [],
   "source": [
    "dl_result['model2'] = classification_report(y_val, dl2_y_pred)"
   ]
  },
  {
   "cell_type": "code",
   "execution_count": null,
   "metadata": {},
   "outputs": [],
   "source": []
  },
  {
   "cell_type": "markdown",
   "metadata": {
    "id": "yAaMF07mHz_q"
   },
   "source": [
    "#### (3) 모델3"
   ]
  },
  {
   "cell_type": "code",
   "execution_count": 383,
   "metadata": {
    "id": "aA1Pm1oXMLgv"
   },
   "outputs": [
    {
     "name": "stdout",
     "output_type": "stream",
     "text": [
      "Model: \"sequential\"\n",
      "_________________________________________________________________\n",
      " Layer (type)                Output Shape              Param #   \n",
      "=================================================================\n",
      " dense (Dense)               (None, 50)                1250      \n",
      "                                                                 \n",
      " dense_1 (Dense)             (None, 32)                1632      \n",
      "                                                                 \n",
      " dense_2 (Dense)             (None, 16)                528       \n",
      "                                                                 \n",
      " dense_3 (Dense)             (None, 1)                 17        \n",
      "                                                                 \n",
      "=================================================================\n",
      "Total params: 3,427\n",
      "Trainable params: 3,427\n",
      "Non-trainable params: 0\n",
      "_________________________________________________________________\n"
     ]
    }
   ],
   "source": [
    "clear_session()\n",
    "\n",
    "model3 = Sequential()\n",
    "model3.add(Dense(50,input_shape=(x_train.shape[1],), activation = 'relu'))\n",
    "model3.add(Dense(32,input_shape=(x_train.shape[1],), activation = 'relu'))\n",
    "model3.add(Dense(16, activation = 'relu'))\n",
    "model3.add(Dense(1, activation= 'sigmoid'))\n",
    "model3.compile(loss = 'binary_crossentropy', metrics=['accuracy'],optimizer = 'adam')  \n",
    "model3.summary()"
   ]
  },
  {
   "cell_type": "code",
   "execution_count": 384,
   "metadata": {},
   "outputs": [
    {
     "name": "stdout",
     "output_type": "stream",
     "text": [
      "Epoch 1/100\n",
      "375/375 [==============================] - 1s 2ms/step - loss: 979.5118 - accuracy: 0.5147\n",
      "Epoch 2/100\n",
      "375/375 [==============================] - 1s 2ms/step - loss: 228.8377 - accuracy: 0.5257\n",
      "Epoch 3/100\n",
      "375/375 [==============================] - 1s 2ms/step - loss: 232.2731 - accuracy: 0.5347\n",
      "Epoch 4/100\n",
      "375/375 [==============================] - 1s 2ms/step - loss: 191.8376 - accuracy: 0.5320\n",
      "Epoch 5/100\n",
      "375/375 [==============================] - 1s 2ms/step - loss: 159.2131 - accuracy: 0.5453\n",
      "Epoch 6/100\n",
      "375/375 [==============================] - 1s 2ms/step - loss: 149.6759 - accuracy: 0.5393\n",
      "Epoch 7/100\n",
      "375/375 [==============================] - 1s 2ms/step - loss: 119.7095 - accuracy: 0.5483\n",
      "Epoch 8/100\n",
      "375/375 [==============================] - 1s 2ms/step - loss: 108.4948 - accuracy: 0.5508\n",
      "Epoch 9/100\n",
      "375/375 [==============================] - 1s 2ms/step - loss: 88.0572 - accuracy: 0.5543\n",
      "Epoch 10/100\n",
      "375/375 [==============================] - 1s 2ms/step - loss: 131.8241 - accuracy: 0.5463\n",
      "Epoch 11/100\n",
      "375/375 [==============================] - 1s 2ms/step - loss: 106.1332 - accuracy: 0.5545\n",
      "Epoch 12/100\n",
      "375/375 [==============================] - 1s 2ms/step - loss: 73.8469 - accuracy: 0.5681\n",
      "Epoch 13/100\n",
      "375/375 [==============================] - 1s 2ms/step - loss: 72.5392 - accuracy: 0.5692\n",
      "Epoch 14/100\n",
      "375/375 [==============================] - 1s 2ms/step - loss: 68.6581 - accuracy: 0.5507\n",
      "Epoch 15/100\n",
      "375/375 [==============================] - 1s 2ms/step - loss: 49.7023 - accuracy: 0.5696\n",
      "Epoch 16/100\n",
      "375/375 [==============================] - 1s 2ms/step - loss: 55.2594 - accuracy: 0.5630\n",
      "Epoch 17/100\n",
      "375/375 [==============================] - 1s 2ms/step - loss: 33.1684 - accuracy: 0.5648\n",
      "Epoch 18/100\n",
      "375/375 [==============================] - 1s 2ms/step - loss: 31.3684 - accuracy: 0.5651\n",
      "Epoch 19/100\n",
      "375/375 [==============================] - 1s 2ms/step - loss: 21.5108 - accuracy: 0.5778\n",
      "Epoch 20/100\n",
      "375/375 [==============================] - 1s 2ms/step - loss: 16.1011 - accuracy: 0.5585\n",
      "Epoch 21/100\n",
      "375/375 [==============================] - 1s 2ms/step - loss: 15.5572 - accuracy: 0.5647\n",
      "Epoch 22/100\n",
      "375/375 [==============================] - 1s 2ms/step - loss: 16.5520 - accuracy: 0.5518\n",
      "Epoch 23/100\n",
      "375/375 [==============================] - 1s 2ms/step - loss: 9.5293 - accuracy: 0.5628\n",
      "Epoch 24/100\n",
      "375/375 [==============================] - 1s 2ms/step - loss: 7.8619 - accuracy: 0.5603\n",
      "Epoch 25/100\n",
      "375/375 [==============================] - 1s 2ms/step - loss: 5.4367 - accuracy: 0.5621\n",
      "Epoch 26/100\n",
      "375/375 [==============================] - 1s 2ms/step - loss: 3.9609 - accuracy: 0.5544\n",
      "Epoch 27/100\n",
      "375/375 [==============================] - 1s 2ms/step - loss: 7.0478 - accuracy: 0.5358\n",
      "Epoch 28/100\n",
      "375/375 [==============================] - 1s 2ms/step - loss: 3.3356 - accuracy: 0.5219\n",
      "Epoch 29/100\n",
      "375/375 [==============================] - 1s 2ms/step - loss: 6.2602 - accuracy: 0.5257\n",
      "Epoch 30/100\n",
      "375/375 [==============================] - 1s 2ms/step - loss: 2.0552 - accuracy: 0.5368\n",
      "Epoch 31/100\n",
      "375/375 [==============================] - 1s 2ms/step - loss: 1.0403 - accuracy: 0.5402\n",
      "Epoch 32/100\n",
      "375/375 [==============================] - 1s 2ms/step - loss: 0.9026 - accuracy: 0.5537\n",
      "Epoch 33/100\n",
      "375/375 [==============================] - 1s 2ms/step - loss: 2.4689 - accuracy: 0.5403\n",
      "Epoch 34/100\n",
      "375/375 [==============================] - 1s 2ms/step - loss: 0.9614 - accuracy: 0.5428\n",
      "Epoch 35/100\n",
      "375/375 [==============================] - 1s 2ms/step - loss: 0.8292 - accuracy: 0.5330\n",
      "Epoch 36/100\n",
      "375/375 [==============================] - 1s 2ms/step - loss: 0.7494 - accuracy: 0.4922\n",
      "Epoch 37/100\n",
      "375/375 [==============================] - 1s 2ms/step - loss: 0.7058 - accuracy: 0.4915\n",
      "Epoch 38/100\n",
      "375/375 [==============================] - 1s 2ms/step - loss: 0.6984 - accuracy: 0.5045\n",
      "Epoch 39/100\n",
      "375/375 [==============================] - 1s 2ms/step - loss: 0.6987 - accuracy: 0.5110\n",
      "Epoch 40/100\n",
      "375/375 [==============================] - 1s 2ms/step - loss: 0.6969 - accuracy: 0.5108\n",
      "Epoch 41/100\n",
      "375/375 [==============================] - 1s 2ms/step - loss: 0.6958 - accuracy: 0.5073\n",
      "Epoch 42/100\n",
      "375/375 [==============================] - 1s 2ms/step - loss: 0.6970 - accuracy: 0.5060\n",
      "Epoch 43/100\n",
      "375/375 [==============================] - 1s 2ms/step - loss: 0.7174 - accuracy: 0.5055\n",
      "Epoch 44/100\n",
      "375/375 [==============================] - 1s 2ms/step - loss: 0.6931 - accuracy: 0.5058\n",
      "Epoch 45/100\n",
      "375/375 [==============================] - 1s 2ms/step - loss: 0.6931 - accuracy: 0.5061\n",
      "Epoch 46/100\n",
      "375/375 [==============================] - 1s 2ms/step - loss: 0.6932 - accuracy: 0.5058\n",
      "Epoch 47/100\n",
      "375/375 [==============================] - 1s 2ms/step - loss: 0.6931 - accuracy: 0.5058\n",
      "Epoch 48/100\n",
      "375/375 [==============================] - 1s 2ms/step - loss: 0.6931 - accuracy: 0.5058\n",
      "Epoch 49/100\n",
      "375/375 [==============================] - 1s 2ms/step - loss: 0.6931 - accuracy: 0.5059\n",
      "Epoch 50/100\n",
      "375/375 [==============================] - 1s 2ms/step - loss: 0.6931 - accuracy: 0.5059\n",
      "Epoch 51/100\n",
      "375/375 [==============================] - 1s 2ms/step - loss: 0.6931 - accuracy: 0.5059\n",
      "Epoch 52/100\n",
      "375/375 [==============================] - 1s 2ms/step - loss: 0.6931 - accuracy: 0.5059\n",
      "Epoch 53/100\n",
      "375/375 [==============================] - 1s 2ms/step - loss: 0.6931 - accuracy: 0.5059\n",
      "Epoch 54/100\n",
      "375/375 [==============================] - 1s 2ms/step - loss: 0.6931 - accuracy: 0.5059\n",
      "Epoch 55/100\n",
      "375/375 [==============================] - 1s 2ms/step - loss: 0.6931 - accuracy: 0.5059\n",
      "Epoch 56/100\n",
      "375/375 [==============================] - 1s 2ms/step - loss: 0.6931 - accuracy: 0.5059\n",
      "Epoch 57/100\n",
      "375/375 [==============================] - 1s 2ms/step - loss: 0.6931 - accuracy: 0.5059\n",
      "Epoch 58/100\n",
      "375/375 [==============================] - 1s 2ms/step - loss: 0.6931 - accuracy: 0.5059\n",
      "Epoch 59/100\n",
      "375/375 [==============================] - 1s 2ms/step - loss: 0.6931 - accuracy: 0.5059\n",
      "Epoch 60/100\n",
      "375/375 [==============================] - 1s 2ms/step - loss: 0.6931 - accuracy: 0.5059\n",
      "Epoch 61/100\n",
      "375/375 [==============================] - 1s 2ms/step - loss: 0.6931 - accuracy: 0.5059\n",
      "Epoch 62/100\n",
      "375/375 [==============================] - 1s 2ms/step - loss: 0.6931 - accuracy: 0.5059\n",
      "Epoch 63/100\n",
      "375/375 [==============================] - 1s 2ms/step - loss: 0.6931 - accuracy: 0.5059\n",
      "Epoch 64/100\n",
      "375/375 [==============================] - 1s 2ms/step - loss: 0.6931 - accuracy: 0.5059\n",
      "Epoch 65/100\n",
      "375/375 [==============================] - 1s 3ms/step - loss: 0.6931 - accuracy: 0.5059\n",
      "Epoch 66/100\n",
      "375/375 [==============================] - 1s 2ms/step - loss: 0.6931 - accuracy: 0.5059\n",
      "Epoch 67/100\n",
      "375/375 [==============================] - 1s 2ms/step - loss: 0.6931 - accuracy: 0.5059\n",
      "Epoch 68/100\n",
      "375/375 [==============================] - 1s 2ms/step - loss: 0.6931 - accuracy: 0.5059\n",
      "Epoch 69/100\n",
      "375/375 [==============================] - 1s 2ms/step - loss: 0.6931 - accuracy: 0.5059\n",
      "Epoch 70/100\n",
      "375/375 [==============================] - 1s 2ms/step - loss: 0.6931 - accuracy: 0.5059\n",
      "Epoch 71/100\n",
      "375/375 [==============================] - 1s 2ms/step - loss: 0.6931 - accuracy: 0.5059\n",
      "Epoch 72/100\n",
      "375/375 [==============================] - 1s 2ms/step - loss: 0.6931 - accuracy: 0.5059\n",
      "Epoch 73/100\n",
      "375/375 [==============================] - 1s 2ms/step - loss: 0.6931 - accuracy: 0.5059\n",
      "Epoch 74/100\n",
      "375/375 [==============================] - 1s 2ms/step - loss: 0.6931 - accuracy: 0.5059\n",
      "Epoch 75/100\n",
      "375/375 [==============================] - 1s 2ms/step - loss: 0.6931 - accuracy: 0.5059\n",
      "Epoch 76/100\n",
      "375/375 [==============================] - 1s 2ms/step - loss: 0.6931 - accuracy: 0.5039\n",
      "Epoch 77/100\n",
      "375/375 [==============================] - 1s 2ms/step - loss: 0.6931 - accuracy: 0.5059\n",
      "Epoch 78/100\n",
      "375/375 [==============================] - 1s 2ms/step - loss: 0.6931 - accuracy: 0.5059\n",
      "Epoch 79/100\n",
      "375/375 [==============================] - 1s 2ms/step - loss: 0.6931 - accuracy: 0.5059\n",
      "Epoch 80/100\n",
      "375/375 [==============================] - 1s 2ms/step - loss: 0.6931 - accuracy: 0.5059\n",
      "Epoch 81/100\n",
      "375/375 [==============================] - 1s 2ms/step - loss: 0.6931 - accuracy: 0.5059\n",
      "Epoch 82/100\n",
      "375/375 [==============================] - 1s 2ms/step - loss: 0.6931 - accuracy: 0.5059\n",
      "Epoch 83/100\n",
      "375/375 [==============================] - 1s 2ms/step - loss: 0.6931 - accuracy: 0.5059\n",
      "Epoch 84/100\n",
      "375/375 [==============================] - 1s 2ms/step - loss: 0.6931 - accuracy: 0.5059\n",
      "Epoch 85/100\n",
      "375/375 [==============================] - 1s 2ms/step - loss: 0.6931 - accuracy: 0.5059\n",
      "Epoch 86/100\n",
      "375/375 [==============================] - 1s 2ms/step - loss: 0.6931 - accuracy: 0.5059\n",
      "Epoch 87/100\n",
      "375/375 [==============================] - 1s 2ms/step - loss: 0.6931 - accuracy: 0.5059\n",
      "Epoch 88/100\n",
      "375/375 [==============================] - 1s 2ms/step - loss: 0.6931 - accuracy: 0.5059\n",
      "Epoch 89/100\n",
      "375/375 [==============================] - 1s 2ms/step - loss: 0.6931 - accuracy: 0.5059\n",
      "Epoch 90/100\n",
      "375/375 [==============================] - 1s 2ms/step - loss: 0.6931 - accuracy: 0.5059\n",
      "Epoch 91/100\n",
      "375/375 [==============================] - 1s 2ms/step - loss: 0.6931 - accuracy: 0.5059\n",
      "Epoch 92/100\n",
      "375/375 [==============================] - 1s 2ms/step - loss: 0.6931 - accuracy: 0.5059\n",
      "Epoch 93/100\n",
      "375/375 [==============================] - 1s 2ms/step - loss: 0.6931 - accuracy: 0.5059\n",
      "Epoch 94/100\n",
      "375/375 [==============================] - 1s 2ms/step - loss: 0.6931 - accuracy: 0.5059\n",
      "Epoch 95/100\n",
      "375/375 [==============================] - 1s 2ms/step - loss: 0.6931 - accuracy: 0.5027\n",
      "Epoch 96/100\n",
      "375/375 [==============================] - 1s 2ms/step - loss: 0.6931 - accuracy: 0.5059\n",
      "Epoch 97/100\n",
      "375/375 [==============================] - 1s 2ms/step - loss: 0.6931 - accuracy: 0.5059\n",
      "Epoch 98/100\n",
      "375/375 [==============================] - 1s 2ms/step - loss: 0.6931 - accuracy: 0.5059\n",
      "Epoch 99/100\n",
      "375/375 [==============================] - 1s 2ms/step - loss: 0.6931 - accuracy: 0.5059\n",
      "Epoch 100/100\n",
      "375/375 [==============================] - 1s 2ms/step - loss: 0.6931 - accuracy: 0.5059\n"
     ]
    }
   ],
   "source": [
    "model3.fit(x_train, y_train, epochs = 100)\n",
    "dl3_y_pred = model3.predict(x_val)"
   ]
  },
  {
   "cell_type": "code",
   "execution_count": 385,
   "metadata": {},
   "outputs": [
    {
     "name": "stdout",
     "output_type": "stream",
     "text": [
      "              precision    recall  f1-score   support\n",
      "\n",
      "           0       0.51      1.00      0.67      1520\n",
      "           1       0.00      0.00      0.00      1480\n",
      "\n",
      "    accuracy                           0.51      3000\n",
      "   macro avg       0.25      0.50      0.34      3000\n",
      "weighted avg       0.26      0.51      0.34      3000\n",
      "\n"
     ]
    }
   ],
   "source": [
    "dl3_y_pred = np.where(dl3_y_pred >= .5, 1, 0)\n",
    "print(classification_report(y_val, dl3_y_pred))"
   ]
  },
  {
   "cell_type": "code",
   "execution_count": 386,
   "metadata": {},
   "outputs": [],
   "source": [
    "dl_result['model3'] = classification_report(y_val, dl1_y_pred)"
   ]
  },
  {
   "cell_type": "code",
   "execution_count": null,
   "metadata": {},
   "outputs": [],
   "source": []
  },
  {
   "cell_type": "markdown",
   "metadata": {
    "id": "yAaMF07mHz_q"
   },
   "source": [
    "#### (4) 추가"
   ]
  },
  {
   "cell_type": "code",
   "execution_count": null,
   "metadata": {
    "id": "aA1Pm1oXMLgv"
   },
   "outputs": [],
   "source": []
  },
  {
   "cell_type": "code",
   "execution_count": null,
   "metadata": {},
   "outputs": [],
   "source": []
  },
  {
   "cell_type": "code",
   "execution_count": null,
   "metadata": {},
   "outputs": [],
   "source": []
  },
  {
   "cell_type": "code",
   "execution_count": null,
   "metadata": {},
   "outputs": [],
   "source": []
  },
  {
   "cell_type": "code",
   "execution_count": null,
   "metadata": {},
   "outputs": [],
   "source": []
  },
  {
   "cell_type": "markdown",
   "metadata": {
    "id": "U4UL4ynYL6Ly"
   },
   "source": [
    "## 5.성능 비교\n",
    "* 총 모델이 최소한 ML 3가지, DL 3가지 입니다. 이에 대해 성능을 평가합니다.\n",
    "* 평가를 위한 적절한 지표(metric)을 결정하고 비교합니다.\n",
    "    * **평가지표 선정 이유**를 주석으로 기술하시오.\n",
    "* 최종 모델을 **선정하게 된 근거**를 주석으로 기술하시오."
   ]
  },
  {
   "cell_type": "markdown",
   "metadata": {
    "id": "lKA2UyB6HXfF"
   },
   "source": [
    "### 5.1 평가지표 결정\n",
    "\n",
    "* 어떤 지표로 성능을 비교할지 결정합니다.\n",
    "* 결정 이유를 기술합니다."
   ]
  },
  {
   "cell_type": "markdown",
   "metadata": {},
   "source": [
    "지표로 precision과 Specificity을 선택할 것이다. \n",
    "\n",
    "현재 데이터를 분석하고 모델링 하는 목적은 '현재 고객수를 유지'하는 것이다.\n",
    "즉 이탈이 0인 사람들을 1로 만들지 않는 것이 목적이다.\n",
    "그렇다면 실제 이탈하지 않은 고객 주에서 이탈하지 않을 것이라 예측한 고객의 비율을 파악하고 그들이 만족하는 서비스를 제공해야한다.\n",
    "또한 실제 이탈할 것이라 예측한 고객 중에서 실제 이탈한 고객의 비율을 찾아내어 이탈을 막아야 할것이다.\n",
    "\n",
    "결론적으로 고객 유질르 위해서는 이탈하지 않는 고객들이 만족하는 서비스와 이탈할 것으로 예측되는 고객들이 불만족스러워 하는 서비스를 \n",
    "모두 개선하는 것이 고객 유지를 위한 방법이라 생각된다."
   ]
  },
  {
   "cell_type": "markdown",
   "metadata": {
    "id": "-hOx7i2sHi1U"
   },
   "source": [
    "### 5.2 성능 비교\n",
    "\n",
    "* 성능을 비교하고, 최적의 모델을 선정하시오.\n",
    "* 선정 근거를 주석으로 기술하시오."
   ]
  },
  {
   "cell_type": "code",
   "execution_count": 387,
   "metadata": {},
   "outputs": [
    {
     "data": {
      "text/plain": [
       "{'Decision Tree': 0.6821345707656613,\n",
       " 'Random Forest': 0.6942800788954635,\n",
       " 'XGBoost': 0.683206106870229}"
      ]
     },
     "execution_count": 387,
     "metadata": {},
     "output_type": "execute_result"
    }
   ],
   "source": [
    "result"
   ]
  },
  {
   "cell_type": "code",
   "execution_count": 388,
   "metadata": {
    "id": "PGDTpeunO9ce"
   },
   "outputs": [
    {
     "name": "stdout",
     "output_type": "stream",
     "text": [
      "model1\n",
      "              precision    recall  f1-score   support\n",
      "\n",
      "           0       0.61      0.69      0.65      1520\n",
      "           1       0.64      0.55      0.59      1480\n",
      "\n",
      "    accuracy                           0.62      3000\n",
      "   macro avg       0.63      0.62      0.62      3000\n",
      "weighted avg       0.63      0.62      0.62      3000\n",
      "\n",
      "model2\n",
      "              precision    recall  f1-score   support\n",
      "\n",
      "           0       0.00      0.00      0.00      1520\n",
      "           1       0.49      1.00      0.66      1480\n",
      "\n",
      "    accuracy                           0.49      3000\n",
      "   macro avg       0.25      0.50      0.33      3000\n",
      "weighted avg       0.24      0.49      0.33      3000\n",
      "\n",
      "model3\n",
      "              precision    recall  f1-score   support\n",
      "\n",
      "           0       0.61      0.69      0.65      1520\n",
      "           1       0.64      0.55      0.59      1480\n",
      "\n",
      "    accuracy                           0.62      3000\n",
      "   macro avg       0.63      0.62      0.62      3000\n",
      "weighted avg       0.63      0.62      0.62      3000\n",
      "\n"
     ]
    }
   ],
   "source": [
    "for i in dl_result:\n",
    "    print(i)\n",
    "    print(dl_result[i])"
   ]
  },
  {
   "cell_type": "markdown",
   "metadata": {
    "id": "pD7PsU9sO9Zo"
   },
   "source": [
    "민감도를 따져 보았을 때 Random Forest 모델을 사용하기로 결정했다."
   ]
  },
  {
   "cell_type": "markdown",
   "metadata": {},
   "source": [
    "### 5.3 추가 분석 및 의견"
   ]
  },
  {
   "cell_type": "markdown",
   "metadata": {
    "id": "kXk1f3TEH77-"
   },
   "source": [
    "* 성능을 한눈에 비교할 수 있는 방법을 고안해서 수행해 봅시다."
   ]
  },
  {
   "cell_type": "code",
   "execution_count": 389,
   "metadata": {},
   "outputs": [
    {
     "data": {
      "image/png": "[encoded data removed]",
      "text/plain": [
       "<Figure size 432x288 with 1 Axes>"
      ]
     },
     "metadata": {
      "needs_background": "light"
     },
     "output_type": "display_data"
    }
   ],
   "source": [
    "plt.barh(y=list(result), width=result.values())\n",
    "plt.xlabel('Score')\n",
    "plt.ylabel('Model')\n",
    "plt.show()"
   ]
  },
  {
   "cell_type": "markdown",
   "metadata": {
    "id": "sTGn4JaQPC6W"
   },
   "source": [
    "* 여러분의 선정한 모델로 비즈니스 문제를 해결할 수 있을까요? 여러분의 의견을 적어 봅시다."
   ]
  },
  {
   "cell_type": "markdown",
   "metadata": {
    "id": "jL1qvzxOPFEC"
   },
   "source": [
    "크게 해결할 수는 없을 것 같다. \n",
    "\n",
    "단변량 이변량 분석을 통해서 각 변수의 상관관계와 타겟을 해야하는 집단(집값이 낮은 집단, 연 수입이 높은 집단)\n",
    "을 발견할 수는 있었지만, 정말 그들이 이탈할 것인지 지표를 확인할 수 있는 모델링의 성과가 그리 높지는 않았다.\n",
    "\n",
    "단변량 분석을 통해 찾아낸 집단을 분석하기 위한 참고 자료로는 사용될 수 있겠지만 비지니스 문제 해결까지는 어려울 것 같다."
   ]
  },
  {
   "cell_type": "markdown",
   "metadata": {
    "id": "sTGn4JaQPC6W"
   },
   "source": [
    "* 비즈니스 문제 해결을 위해서 더 해볼 수 있는 것은 무엇인가요?"
   ]
  },
  {
   "cell_type": "markdown",
   "metadata": {
    "id": "jL1qvzxOPFEC"
   },
   "source": [
    "정확하게 고객들이 이탈하는 이유를 알아내지 못했다.\n",
    "\n",
    "통화 시간을 분석해보고 만족도 설문도 분석해보았지만 그것과는 큰 상관이 없는 것으로 나타났다.\n",
    "그나마 장기통화를 자주 사용하는 고객들의 이탈율이 높은 것으로 나타났기 때문에 장기 통화를 자주 사용하는 고객들의 소리를 들어볼 필요가 있다.\n",
    "\n",
    "비지니스 문제는 여러 문제가 복합적으로 이루어져 생긴다고 생각한다.\n",
    "장기 통화를 자주 사용하는 고객들의 소리와 더불어 이탈이 생기는 다른 문제가 없는지 더 자세하게 알아 볼 필요가 있다."
   ]
  }
 ],
 "metadata": {
  "colab": {
   "collapsed_sections": [],
   "name": "과제3. 이동통신 고객 이탈 예측.ipynb",
   "provenance": [],
   "toc_visible": true
  },
  "kernelspec": {
   "display_name": "Python 3",
   "language": "python",
   "name": "python3"
  },
  "language_info": {
   "codemirror_mode": {
    "name": "ipython",
    "version": 3
   },
   "file_extension": ".py",
   "mimetype": "text/x-python",
   "name": "python",
   "nbconvert_exporter": "python",
   "pygments_lexer": "ipython3",
   "version": "3.8.8"
  }
 },
 "nbformat": 4,
 "nbformat_minor": 4
}
